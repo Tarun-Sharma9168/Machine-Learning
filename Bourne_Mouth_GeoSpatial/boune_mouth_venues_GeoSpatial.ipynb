{
 "cells": [
  {
   "cell_type": "code",
   "execution_count": 1,
   "metadata": {},
   "outputs": [],
   "source": [
    "import pandas as pd\n",
    "import numpy as np\n",
    "import folium as fl\n",
    "import matplotlib.pyplot as plt\n",
    "import seaborn as sns\n",
    "from geopy.distance import GreatCircleDistance"
   ]
  },
  {
   "cell_type": "code",
   "execution_count": 2,
   "metadata": {},
   "outputs": [
    {
     "data": {
      "text/html": [
       "<div>\n",
       "<style scoped>\n",
       "    .dataframe tbody tr th:only-of-type {\n",
       "        vertical-align: middle;\n",
       "    }\n",
       "\n",
       "    .dataframe tbody tr th {\n",
       "        vertical-align: top;\n",
       "    }\n",
       "\n",
       "    .dataframe thead th {\n",
       "        text-align: right;\n",
       "    }\n",
       "</style>\n",
       "<table border=\"1\" class=\"dataframe\">\n",
       "  <thead>\n",
       "    <tr style=\"text-align: right;\">\n",
       "      <th></th>\n",
       "      <th>Venue Name</th>\n",
       "      <th>Venue Category</th>\n",
       "      <th>Venue Latitude</th>\n",
       "      <th>Venue Longitude</th>\n",
       "    </tr>\n",
       "  </thead>\n",
       "  <tbody>\n",
       "    <tr>\n",
       "      <td>0</td>\n",
       "      <td>South Coast Roast</td>\n",
       "      <td>Coffee Shop</td>\n",
       "      <td>50.720913</td>\n",
       "      <td>-1.879085</td>\n",
       "    </tr>\n",
       "    <tr>\n",
       "      <td>1</td>\n",
       "      <td>DelMarco</td>\n",
       "      <td>Italian Restaurant</td>\n",
       "      <td>50.721370</td>\n",
       "      <td>-1.877221</td>\n",
       "    </tr>\n",
       "    <tr>\n",
       "      <td>2</td>\n",
       "      <td>Lower Gardens</td>\n",
       "      <td>Park</td>\n",
       "      <td>50.719323</td>\n",
       "      <td>-1.878195</td>\n",
       "    </tr>\n",
       "    <tr>\n",
       "      <td>3</td>\n",
       "      <td>Bournemouth Gardens</td>\n",
       "      <td>Park</td>\n",
       "      <td>50.718990</td>\n",
       "      <td>-1.877733</td>\n",
       "    </tr>\n",
       "    <tr>\n",
       "      <td>4</td>\n",
       "      <td>Bournemouth Square</td>\n",
       "      <td>Plaza</td>\n",
       "      <td>50.720156</td>\n",
       "      <td>-1.879563</td>\n",
       "    </tr>\n",
       "  </tbody>\n",
       "</table>\n",
       "</div>"
      ],
      "text/plain": [
       "            Venue Name      Venue Category  Venue Latitude  Venue Longitude\n",
       "0    South Coast Roast         Coffee Shop       50.720913        -1.879085\n",
       "1             DelMarco  Italian Restaurant       50.721370        -1.877221\n",
       "2        Lower Gardens                Park       50.719323        -1.878195\n",
       "3  Bournemouth Gardens                Park       50.718990        -1.877733\n",
       "4   Bournemouth Square               Plaza       50.720156        -1.879563"
      ]
     },
     "execution_count": 2,
     "metadata": {},
     "output_type": "execute_result"
    }
   ],
   "source": [
    "data=pd.read_csv(\"bournemouth_venues.csv\")\n",
    "data.head()"
   ]
  },
  {
   "cell_type": "code",
   "execution_count": 3,
   "metadata": {},
   "outputs": [
    {
     "data": {
      "text/plain": [
       "array(['Coffee Shop', 'Italian Restaurant', 'Park', 'Plaza',\n",
       "       'Pizza Place', 'Burger Joint', 'Sandwich Place', 'Gym', 'Hotel',\n",
       "       'Vegetarian / Vegan Restaurant', 'Comfort Food Restaurant',\n",
       "       'Beach', 'Multiplex', 'Ice Cream Shop', 'Café', 'Greek Restaurant',\n",
       "       'Gym / Fitness Center', 'Bubble Tea Shop',\n",
       "       'Modern European Restaurant', 'Caribbean Restaurant',\n",
       "       'Cocktail Bar', 'Thai Restaurant', 'Pub', 'Indian Restaurant',\n",
       "       'Nightclub', 'Art Museum', 'Clothing Store', 'French Restaurant',\n",
       "       'Theater', 'Bar', 'English Restaurant', 'Fast Food Restaurant',\n",
       "       'Arts & Entertainment', 'Brewery', 'Garden', 'Aquarium', 'Diner',\n",
       "       'Tapas Restaurant', 'Seafood Restaurant', 'Mexican Restaurant',\n",
       "       'Dessert Shop', 'Other Great Outdoors', 'Chinese Restaurant',\n",
       "       'Turkish Restaurant', 'Gay Bar', 'Noodle House', 'Grocery Store',\n",
       "       'Scenic Lookout', 'Train Station', 'Bus Stop', 'Platform'],\n",
       "      dtype=object)"
      ]
     },
     "execution_count": 3,
     "metadata": {},
     "output_type": "execute_result"
    }
   ],
   "source": [
    "data['Venue Category'].unique()"
   ]
  },
  {
   "cell_type": "code",
   "execution_count": 4,
   "metadata": {},
   "outputs": [
    {
     "data": {
      "text/plain": [
       "Hotel                            11\n",
       "Coffee Shop                       7\n",
       "Park                              5\n",
       "Café                              4\n",
       "Italian Restaurant                4\n",
       "Sandwich Place                    4\n",
       "Beach                             4\n",
       "Fast Food Restaurant              3\n",
       "Indian Restaurant                 3\n",
       "Bar                               3\n",
       "Gym / Fitness Center              2\n",
       "Clothing Store                    2\n",
       "French Restaurant                 2\n",
       "Nightclub                         2\n",
       "Pub                               2\n",
       "Burger Joint                      2\n",
       "English Restaurant                2\n",
       "Mexican Restaurant                2\n",
       "Gay Bar                           2\n",
       "Pizza Place                       2\n",
       "Plaza                             2\n",
       "Grocery Store                     1\n",
       "Gym                               1\n",
       "Caribbean Restaurant              1\n",
       "Vegetarian / Vegan Restaurant     1\n",
       "Turkish Restaurant                1\n",
       "Comfort Food Restaurant           1\n",
       "Ice Cream Shop                    1\n",
       "Modern European Restaurant        1\n",
       "Diner                             1\n",
       "Brewery                           1\n",
       "Cocktail Bar                      1\n",
       "Platform                          1\n",
       "Theater                           1\n",
       "Scenic Lookout                    1\n",
       "Garden                            1\n",
       "Other Great Outdoors              1\n",
       "Thai Restaurant                   1\n",
       "Tapas Restaurant                  1\n",
       "Art Museum                        1\n",
       "Greek Restaurant                  1\n",
       "Dessert Shop                      1\n",
       "Bubble Tea Shop                   1\n",
       "Train Station                     1\n",
       "Arts & Entertainment              1\n",
       "Multiplex                         1\n",
       "Chinese Restaurant                1\n",
       "Seafood Restaurant                1\n",
       "Aquarium                          1\n",
       "Bus Stop                          1\n",
       "Noodle House                      1\n",
       "Name: Venue Category, dtype: int64"
      ]
     },
     "execution_count": 4,
     "metadata": {},
     "output_type": "execute_result"
    }
   ],
   "source": [
    "data['Venue Category'].value_counts()"
   ]
  },
  {
   "cell_type": "code",
   "execution_count": 5,
   "metadata": {},
   "outputs": [
    {
     "data": {
      "text/plain": [
       "Venue Name         0\n",
       "Venue Category     0\n",
       "Venue Latitude     0\n",
       "Venue Longitude    0\n",
       "dtype: int64"
      ]
     },
     "execution_count": 5,
     "metadata": {},
     "output_type": "execute_result"
    }
   ],
   "source": [
    "data.isnull().sum()"
   ]
  },
  {
   "cell_type": "code",
   "execution_count": 6,
   "metadata": {},
   "outputs": [
    {
     "data": {
      "text/html": [
       "<div>\n",
       "<style scoped>\n",
       "    .dataframe tbody tr th:only-of-type {\n",
       "        vertical-align: middle;\n",
       "    }\n",
       "\n",
       "    .dataframe tbody tr th {\n",
       "        vertical-align: top;\n",
       "    }\n",
       "\n",
       "    .dataframe thead th {\n",
       "        text-align: right;\n",
       "    }\n",
       "</style>\n",
       "<table border=\"1\" class=\"dataframe\">\n",
       "  <thead>\n",
       "    <tr style=\"text-align: right;\">\n",
       "      <th></th>\n",
       "      <th>Venue Latitude</th>\n",
       "      <th>Venue Longitude</th>\n",
       "    </tr>\n",
       "  </thead>\n",
       "  <tbody>\n",
       "    <tr>\n",
       "      <td>count</td>\n",
       "      <td>100.000000</td>\n",
       "      <td>100.000000</td>\n",
       "    </tr>\n",
       "    <tr>\n",
       "      <td>mean</td>\n",
       "      <td>50.720272</td>\n",
       "      <td>-1.878948</td>\n",
       "    </tr>\n",
       "    <tr>\n",
       "      <td>std</td>\n",
       "      <td>0.003434</td>\n",
       "      <td>0.008443</td>\n",
       "    </tr>\n",
       "    <tr>\n",
       "      <td>min</td>\n",
       "      <td>50.713341</td>\n",
       "      <td>-1.896096</td>\n",
       "    </tr>\n",
       "    <tr>\n",
       "      <td>25%</td>\n",
       "      <td>50.718884</td>\n",
       "      <td>-1.885080</td>\n",
       "    </tr>\n",
       "    <tr>\n",
       "      <td>50%</td>\n",
       "      <td>50.719901</td>\n",
       "      <td>-1.879594</td>\n",
       "    </tr>\n",
       "    <tr>\n",
       "      <td>75%</td>\n",
       "      <td>50.721050</td>\n",
       "      <td>-1.874754</td>\n",
       "    </tr>\n",
       "    <tr>\n",
       "      <td>max</td>\n",
       "      <td>50.731591</td>\n",
       "      <td>-1.858884</td>\n",
       "    </tr>\n",
       "  </tbody>\n",
       "</table>\n",
       "</div>"
      ],
      "text/plain": [
       "       Venue Latitude  Venue Longitude\n",
       "count      100.000000       100.000000\n",
       "mean        50.720272        -1.878948\n",
       "std          0.003434         0.008443\n",
       "min         50.713341        -1.896096\n",
       "25%         50.718884        -1.885080\n",
       "50%         50.719901        -1.879594\n",
       "75%         50.721050        -1.874754\n",
       "max         50.731591        -1.858884"
      ]
     },
     "execution_count": 6,
     "metadata": {},
     "output_type": "execute_result"
    }
   ],
   "source": [
    "data.describe()"
   ]
  },
  {
   "cell_type": "code",
   "execution_count": 7,
   "metadata": {},
   "outputs": [
    {
     "name": "stdout",
     "output_type": "stream",
     "text": [
      "<class 'pandas.core.frame.DataFrame'>\n",
      "RangeIndex: 100 entries, 0 to 99\n",
      "Data columns (total 4 columns):\n",
      "Venue Name         100 non-null object\n",
      "Venue Category     100 non-null object\n",
      "Venue Latitude     100 non-null float64\n",
      "Venue Longitude    100 non-null float64\n",
      "dtypes: float64(2), object(2)\n",
      "memory usage: 3.2+ KB\n"
     ]
    }
   ],
   "source": [
    "data.info()"
   ]
  },
  {
   "cell_type": "code",
   "execution_count": 8,
   "metadata": {},
   "outputs": [],
   "source": [
    "data.rename(columns={'Venue Latitude':'latitude','Venue Longitude': 'longitude', 'Venue Category': 'category','Venue Name':'place'},inplace=True)"
   ]
  },
  {
   "cell_type": "code",
   "execution_count": 9,
   "metadata": {},
   "outputs": [
    {
     "data": {
      "text/html": [
       "<div>\n",
       "<style scoped>\n",
       "    .dataframe tbody tr th:only-of-type {\n",
       "        vertical-align: middle;\n",
       "    }\n",
       "\n",
       "    .dataframe tbody tr th {\n",
       "        vertical-align: top;\n",
       "    }\n",
       "\n",
       "    .dataframe thead th {\n",
       "        text-align: right;\n",
       "    }\n",
       "</style>\n",
       "<table border=\"1\" class=\"dataframe\">\n",
       "  <thead>\n",
       "    <tr style=\"text-align: right;\">\n",
       "      <th></th>\n",
       "      <th>place</th>\n",
       "      <th>category</th>\n",
       "      <th>latitude</th>\n",
       "      <th>longitude</th>\n",
       "    </tr>\n",
       "  </thead>\n",
       "  <tbody>\n",
       "    <tr>\n",
       "      <td>0</td>\n",
       "      <td>South Coast Roast</td>\n",
       "      <td>Coffee Shop</td>\n",
       "      <td>50.720913</td>\n",
       "      <td>-1.879085</td>\n",
       "    </tr>\n",
       "    <tr>\n",
       "      <td>1</td>\n",
       "      <td>DelMarco</td>\n",
       "      <td>Italian Restaurant</td>\n",
       "      <td>50.721370</td>\n",
       "      <td>-1.877221</td>\n",
       "    </tr>\n",
       "    <tr>\n",
       "      <td>2</td>\n",
       "      <td>Lower Gardens</td>\n",
       "      <td>Park</td>\n",
       "      <td>50.719323</td>\n",
       "      <td>-1.878195</td>\n",
       "    </tr>\n",
       "    <tr>\n",
       "      <td>3</td>\n",
       "      <td>Bournemouth Gardens</td>\n",
       "      <td>Park</td>\n",
       "      <td>50.718990</td>\n",
       "      <td>-1.877733</td>\n",
       "    </tr>\n",
       "    <tr>\n",
       "      <td>4</td>\n",
       "      <td>Bournemouth Square</td>\n",
       "      <td>Plaza</td>\n",
       "      <td>50.720156</td>\n",
       "      <td>-1.879563</td>\n",
       "    </tr>\n",
       "  </tbody>\n",
       "</table>\n",
       "</div>"
      ],
      "text/plain": [
       "                 place            category   latitude  longitude\n",
       "0    South Coast Roast         Coffee Shop  50.720913  -1.879085\n",
       "1             DelMarco  Italian Restaurant  50.721370  -1.877221\n",
       "2        Lower Gardens                Park  50.719323  -1.878195\n",
       "3  Bournemouth Gardens                Park  50.718990  -1.877733\n",
       "4   Bournemouth Square               Plaza  50.720156  -1.879563"
      ]
     },
     "execution_count": 9,
     "metadata": {},
     "output_type": "execute_result"
    }
   ],
   "source": [
    "data.head()"
   ]
  },
  {
   "cell_type": "code",
   "execution_count": 10,
   "metadata": {},
   "outputs": [
    {
     "data": {
      "text/plain": [
       "<matplotlib.axes._subplots.AxesSubplot at 0x7fdde8164690>"
      ]
     },
     "execution_count": 10,
     "metadata": {},
     "output_type": "execute_result"
    },
    {
     "data": {
      "image/png": "[encoded data removed]",
      "text/plain": [
       "<Figure size 1440x360 with 1 Axes>"
      ]
     },
     "metadata": {
      "needs_background": "light"
     },
     "output_type": "display_data"
    }
   ],
   "source": [
    "fig = plt.figure(figsize = (20,5))\n",
    "sns.countplot(data['category'][0:10])"
   ]
  },
  {
   "cell_type": "code",
   "execution_count": 11,
   "metadata": {},
   "outputs": [
    {
     "data": {
      "text/html": [
       "<div style=\"width:100%;\"><div style=\"position:relative;width:100%;height:0;padding-bottom:60%;\"><iframe src=\"data:text/html;charset=utf-8;base64,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\" style=\"position:absolute;width:100%;height:100%;left:0;top:0;border:none !important;\" allowfullscreen webkitallowfullscreen mozallowfullscreen></iframe></div></div>"
      ],
      "text/plain": [
       "<folium.folium.Map at 0x7fddbb00e210>"
      ]
     },
     "execution_count": 11,
     "metadata": {},
     "output_type": "execute_result"
    }
   ],
   "source": [
    "# Folium map\n",
    "map = fl.Map([50.720913,-1.879085],zoom_start = 15)\n",
    "\n",
    "# grouping dataframe by category\n",
    "data = data.groupby(\"category\")\n",
    "map"
   ]
  },
  {
   "cell_type": "code",
   "execution_count": 12,
   "metadata": {},
   "outputs": [
    {
     "name": "stdout",
     "output_type": "stream",
     "text": [
      "                            place category   latitude  longitude\n",
      "13             Hilton Bournemouth    Hotel  50.718931  -1.880605\n",
      "40                The Green House    Hotel  50.719407  -1.868267\n",
      "41              The Norfolk Hotel    Hotel  50.721509  -1.878929\n",
      "45  Hampton by Hilton Bournemouth    Hotel  50.718971  -1.881915\n",
      "74                 Hallmark Hotel    Hotel  50.718742  -1.890372\n"
     ]
    }
   ],
   "source": [
    "hotels=data.get_group('Hotel')\n",
    "print(hotels.head())"
   ]
  },
  {
   "cell_type": "code",
   "execution_count": 13,
   "metadata": {},
   "outputs": [],
   "source": [
    "# Separating the hotel locations and converting each attribute into list\n",
    "lat = list(hotels[\"latitude\"])\n",
    "lon = list(hotels[\"longitude\"])\n",
    "place = list(hotels[\"place\"])\n",
    "cat = list(hotels[\"category\"])"
   ]
  },
  {
   "cell_type": "code",
   "execution_count": 14,
   "metadata": {},
   "outputs": [
    {
     "data": {
      "text/html": [
       "<div style=\"width:100%;\"><div style=\"position:relative;width:100%;height:0;padding-bottom:60%;\"><iframe src=\"data:text/html;charset=utf-8;base64,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\" style=\"position:absolute;width:100%;height:100%;left:0;top:0;border:none !important;\" allowfullscreen webkitallowfullscreen mozallowfullscreen></iframe></div></div>"
      ],
      "text/plain": [
       "<folium.folium.Map at 0x7fddbb00e210>"
      ]
     },
     "execution_count": 14,
     "metadata": {},
     "output_type": "execute_result"
    }
   ],
   "source": [
    "# visualize / locate hotels--->Markers in red\n",
    "for lt,ln,pl,cat in zip(lat,lon,place,cat):\n",
    "    fl.Marker(location = [lt,ln], tooltip = str(pl) +\",\"+str(cat), icon = fl.Icon(color = 'blue')).add_to(map)\n",
    "map "
   ]
  },
  {
   "cell_type": "code",
   "execution_count": 15,
   "metadata": {},
   "outputs": [
    {
     "name": "stdout",
     "output_type": "stream",
     "text": [
      "                  place category   latitude  longitude\n",
      "2         Lower Gardens     Park  50.719323  -1.878195\n",
      "3   Bournemouth Gardens     Park  50.718990  -1.877733\n",
      "8       Central Gardens     Park  50.719675  -1.879184\n",
      "27         Meyrick Park     Park  50.728062  -1.881856\n",
      "72        Upper Gardens     Park  50.727025  -1.896096\n"
     ]
    },
    {
     "data": {
      "text/html": [
       "<div style=\"width:100%;\"><div style=\"position:relative;width:100%;height:0;padding-bottom:60%;\"><iframe src=\"data:text/html;charset=utf-8;base64,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\" style=\"position:absolute;width:100%;height:100%;left:0;top:0;border:none !important;\" allowfullscreen webkitallowfullscreen mozallowfullscreen></iframe></div></div>"
      ],
      "text/plain": [
       "<folium.folium.Map at 0x7fddbb00e210>"
      ]
     },
     "execution_count": 15,
     "metadata": {},
     "output_type": "execute_result"
    }
   ],
   "source": [
    "parks = data.get_group('Park')\n",
    "\n",
    "# Separating the all park locations and converting each attribute into list\n",
    "lat = list(parks[\"latitude\"])\n",
    "lon = list(parks[\"longitude\"])\n",
    "place = list(parks[\"place\"])\n",
    "cat = list(parks[\"category\"])\n",
    "print(parks)\n",
    "\n",
    "# parks in green colors\n",
    "for cat,lt,ln,pl in zip(cat,lat,lon,place):\n",
    "    fl.Marker(location = [lt,ln], tooltip = str(pl) +\",\"+str(cat), icon = fl.Icon(color = 'green')).add_to(map)\n",
    "map"
   ]
  },
  {
   "cell_type": "code",
   "execution_count": 16,
   "metadata": {},
   "outputs": [
    {
     "name": "stdout",
     "output_type": "stream",
     "text": [
      "                                   place category   latitude  longitude\n",
      "18                     Bournemouth Beach    Beach  50.716387  -1.874734\n",
      "23  Bournemouth Beach (East Cliff Slope)    Beach  50.716874  -1.874283\n",
      "61                          Durley Chine    Beach  50.713380  -1.889022\n",
      "98                          Middle Chine    Beach  50.715090  -1.895664\n"
     ]
    },
    {
     "data": {
      "text/html": [
       "<div style=\"width:100%;\"><div style=\"position:relative;width:100%;height:0;padding-bottom:60%;\"><iframe src=\"data:text/html;charset=utf-8;base64,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\" style=\"position:absolute;width:100%;height:100%;left:0;top:0;border:none !important;\" allowfullscreen webkitallowfullscreen mozallowfullscreen></iframe></div></div>"
      ],
      "text/plain": [
       "<folium.folium.Map at 0x7fddbb00e210>"
      ]
     },
     "execution_count": 16,
     "metadata": {},
     "output_type": "execute_result"
    }
   ],
   "source": [
    "beach = data.get_group('Beach')\n",
    "lat_beach = list(beach[\"latitude\"])\n",
    "lon_beach = list(beach[\"longitude\"])\n",
    "place = list(beach[\"place\"])\n",
    "cat = list(beach[\"category\"])\n",
    "print(beach)\n",
    "\n",
    "# Beach in blue color\n",
    "for cat,lt,ln,pl in zip(cat,lat_beach,lon_beach,place):\n",
    "    fl.Marker(location = [lt,ln], tooltip = str(pl) +\",\"+str(cat), icon = fl.Icon(color = 'blue')).add_to(map)\n",
    "map"
   ]
  },
  {
   "cell_type": "code",
   "execution_count": 17,
   "metadata": {},
   "outputs": [
    {
     "data": {
      "text/plain": [
       "\"\\nCalculating distance between two locations using Geopy\\nMy goal is to find the nearest beach from my current location\\n(My location == Hallmark Hotel), I'm going to use the GreatCircleDistance \\nto calculate the distance between two locations. Destination points/locations \\nare all the beaches in Bournemouth, and the source location is Hallmark Hotel((50.718742,-1.890372))).\\nFor more information about GreatCircledistance click here. I'm going to use PolyLine \\nfunction of the folium module to draw a line between points, Line with color green indicates \\nthe nearest distance to the destination(beach) from the source(Hotel - hallmark).\\nNote : Distance is calculated in kilometers not miles\\n\""
      ]
     },
     "execution_count": 17,
     "metadata": {},
     "output_type": "execute_result"
    }
   ],
   "source": [
    "\n",
    "'''\n",
    "Calculating distance between two locations using Geopy\n",
    "My goal is to find the nearest beach from my current location\n",
    "(My location == Hallmark Hotel), I'm going to use the GreatCircleDistance \n",
    "to calculate the distance between two locations. Destination points/locations \n",
    "are all the beaches in Bournemouth, and the source location is Hallmark Hotel((50.718742,-1.890372))).\n",
    "For more information about GreatCircledistance click here. I'm going to use PolyLine \n",
    "function of the folium module to draw a line between points, Line with color green indicates \n",
    "the nearest distance to the destination(beach) from the source(Hotel - hallmark).\n",
    "Note : Distance is calculated in kilometers not miles\n",
    "'''\n"
   ]
  },
  {
   "cell_type": "code",
   "execution_count": 18,
   "metadata": {},
   "outputs": [
    {
     "data": {
      "text/html": [
       "<div style=\"width:100%;\"><div style=\"position:relative;width:100%;height:0;padding-bottom:60%;\"><iframe src=\"data:text/html;charset=utf-8;base64,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\" style=\"position:absolute;width:100%;height:100%;left:0;top:0;border:none !important;\" allowfullscreen webkitallowfullscreen mozallowfullscreen></iframe></div></div>"
      ],
      "text/plain": [
       "<folium.folium.Map at 0x7fddbb00e210>"
      ]
     },
     "execution_count": 18,
     "metadata": {},
     "output_type": "execute_result"
    }
   ],
   "source": [
    "# latitude and longitude of Hallmark Hotel\n",
    "Source = (50.718742,-1.890372)\n",
    "\n",
    "# Empty list to store the distance\n",
    "distance = []\n",
    "for lt,ln in zip(lat_beach,lon_beach):\n",
    "    dist = GreatCircleDistance(Source,(lt,ln))\n",
    "    distance.append(dist)\n",
    "min_dist = min(distance)\n",
    "# Draw lines between points\n",
    "for dist,lt,ln in zip(distance,lat_beach,lon_beach):\n",
    "    if (dist == min_dist): \n",
    "        fl.PolyLine([Source,(lt,ln),],color = \"green\", weight = 4).add_to(map)\n",
    "map"
   ]
  }
 ],
 "metadata": {
  "kernelspec": {
   "display_name": "Python 3",
   "language": "python",
   "name": "python3"
  },
  "language_info": {
   "codemirror_mode": {
    "name": "ipython",
    "version": 3
   },
   "file_extension": ".py",
   "mimetype": "text/x-python",
   "name": "python",
   "nbconvert_exporter": "python",
   "pygments_lexer": "ipython3",
   "version": "3.7.4"
  }
 },
 "nbformat": 4,
 "nbformat_minor": 2
}
