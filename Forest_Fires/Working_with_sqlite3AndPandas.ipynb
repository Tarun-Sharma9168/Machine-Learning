{
 "cells": [
  {
   "cell_type": "code",
   "execution_count": 1,
   "metadata": {},
   "outputs": [],
   "source": [
    "import numpy as np\n",
    "import pandas as pd\n",
    "import sqlite3\n",
    "import matplotlib.pyplot as plt"
   ]
  },
  {
   "cell_type": "code",
   "execution_count": 2,
   "metadata": {},
   "outputs": [],
   "source": [
    "from sklearn import tree,preprocessing\n",
    "from sklearn.model_selection import train_test_split"
   ]
  },
  {
   "cell_type": "code",
   "execution_count": 3,
   "metadata": {},
   "outputs": [
    {
     "name": "stdout",
     "output_type": "stream",
     "text": [
      "FPA_FOD_20170508.sqlite\n",
      "Untitled.ipynb\n",
      "Working_with_sqlite3AndPandas.ipynb\n",
      "\n"
     ]
    }
   ],
   "source": [
    "#newer for me\n",
    "from subprocess import check_output\n",
    "print(check_output([\"ls\"]).decode(\"utf-8\"))"
   ]
  },
  {
   "cell_type": "code",
   "execution_count": 4,
   "metadata": {},
   "outputs": [],
   "source": [
    "#establishing the connection with sqlite database\n",
    "conn=sqlite3.connect(\"FPA_FOD_20170508.sqlite\")"
   ]
  },
  {
   "cell_type": "code",
   "execution_count": 5,
   "metadata": {},
   "outputs": [
    {
     "name": "stdout",
     "output_type": "stream",
     "text": [
      "   FIRE_YEAR STAT_CAUSE_DESCR   LATITUDE   LONGITUDE STATE  DISCOVERY_DATE  \\\n",
      "0       2005    Miscellaneous  40.036944 -121.005833    CA       2453403.5   \n",
      "1       2004        Lightning  38.933056 -120.404444    CA       2453137.5   \n",
      "2       2004   Debris Burning  38.984167 -120.735556    CA       2453156.5   \n",
      "3       2004        Lightning  38.559167 -119.913333    CA       2453184.5   \n",
      "4       2004        Lightning  38.559167 -119.933056    CA       2453184.5   \n",
      "\n",
      "   FIRE_SIZE  \n",
      "0       0.10  \n",
      "1       0.25  \n",
      "2       0.10  \n",
      "3       0.10  \n",
      "4       0.10  \n"
     ]
    }
   ],
   "source": [
    "data=pd.read_sql(\"SELECT FIRE_YEAR,STAT_CAUSE_DESCR,LATITUDE,LONGITUDE,STATE,DISCOVERY_DATE,FIRE_SIZE FROM 'Fires'\", conn)\n",
    "print(data.head()) #check the data"
   ]
  },
  {
   "cell_type": "code",
   "execution_count": 6,
   "metadata": {},
   "outputs": [
    {
     "name": "stdout",
     "output_type": "stream",
     "text": [
      "   FIRE_YEAR STAT_CAUSE_DESCR   LATITUDE   LONGITUDE STATE  DISCOVERY_DATE  \\\n",
      "0       2005    Miscellaneous  40.036944 -121.005833    CA       2453403.5   \n",
      "1       2004        Lightning  38.933056 -120.404444    CA       2453137.5   \n",
      "2       2004   Debris Burning  38.984167 -120.735556    CA       2453156.5   \n",
      "3       2004        Lightning  38.559167 -119.913333    CA       2453184.5   \n",
      "4       2004        Lightning  38.559167 -119.933056    CA       2453184.5   \n",
      "\n",
      "   FIRE_SIZE       DATE  \n",
      "0       0.10 2005-02-02  \n",
      "1       0.25 2004-05-12  \n",
      "2       0.10 2004-05-31  \n",
      "3       0.10 2004-06-28  \n",
      "4       0.10 2004-06-28  \n"
     ]
    }
   ],
   "source": [
    "#See the Date carefully it is in the Julian Format\n",
    "data['DATE'] = pd.to_datetime(data['DISCOVERY_DATE'] - pd.Timestamp(0).to_julian_date(), unit='D')\n",
    "print(data.head()) #check the data"
   ]
  },
  {
   "cell_type": "code",
   "execution_count": 7,
   "metadata": {},
   "outputs": [
    {
     "data": {
      "text/plain": [
       "(1880465, 8)"
      ]
     },
     "execution_count": 7,
     "metadata": {},
     "output_type": "execute_result"
    }
   ],
   "source": [
    "data.shape"
   ]
  },
  {
   "cell_type": "code",
   "execution_count": 8,
   "metadata": {},
   "outputs": [
    {
     "name": "stdout",
     "output_type": "stream",
     "text": [
      "<class 'pandas.core.frame.DataFrame'>\n",
      "RangeIndex: 1880465 entries, 0 to 1880464\n",
      "Data columns (total 8 columns):\n",
      "FIRE_YEAR           int64\n",
      "STAT_CAUSE_DESCR    object\n",
      "LATITUDE            float64\n",
      "LONGITUDE           float64\n",
      "STATE               object\n",
      "DISCOVERY_DATE      float64\n",
      "FIRE_SIZE           float64\n",
      "DATE                datetime64[ns]\n",
      "dtypes: datetime64[ns](1), float64(4), int64(1), object(2)\n",
      "memory usage: 114.8+ MB\n"
     ]
    }
   ],
   "source": [
    "data.info()"
   ]
  },
  {
   "cell_type": "code",
   "execution_count": 9,
   "metadata": {},
   "outputs": [],
   "source": [
    "#See the Memory usage required here more than 100 Mb"
   ]
  },
  {
   "cell_type": "code",
   "execution_count": 10,
   "metadata": {},
   "outputs": [
    {
     "name": "stdout",
     "output_type": "stream",
     "text": [
      "Int64Index([8, 8, 8, 8, 8], dtype='int64')\n"
     ]
    },
    {
     "name": "stderr",
     "output_type": "stream",
     "text": [
      "/home/tarun/anaconda3/lib/python3.7/site-packages/ipykernel_launcher.py:7: FutureWarning: Creating a DatetimeIndex by passing range endpoints is deprecated.  Use `pandas.date_range` instead.\n",
      "  import sys\n"
     ]
    }
   ],
   "source": [
    "#small representation of the usage of the Datetime Object\n",
    "import pandas as pd \n",
    "  \n",
    "# Create the DatetimeIndex \n",
    "# Here 'D' represents Daily frequency \n",
    "didx = pd.DatetimeIndex(start ='2014-08-01 10:05:45', freq ='D', \n",
    "                               periods = 5, tz ='Asia/Calcutta') \n",
    "  \n",
    "# Print the DatetimeIndex \n",
    "print(didx.month) "
   ]
  },
  {
   "cell_type": "code",
   "execution_count": 11,
   "metadata": {},
   "outputs": [
    {
     "name": "stdout",
     "output_type": "stream",
     "text": [
      "   FIRE_YEAR STAT_CAUSE_DESCR   LATITUDE   LONGITUDE STATE  DISCOVERY_DATE  \\\n",
      "0       2005    Miscellaneous  40.036944 -121.005833    CA       2453403.5   \n",
      "1       2004        Lightning  38.933056 -120.404444    CA       2453137.5   \n",
      "2       2004   Debris Burning  38.984167 -120.735556    CA       2453156.5   \n",
      "3       2004        Lightning  38.559167 -119.913333    CA       2453184.5   \n",
      "4       2004        Lightning  38.559167 -119.933056    CA       2453184.5   \n",
      "\n",
      "   FIRE_SIZE       DATE  MONTH DAY_OF_WEEK  \n",
      "0       0.10 2005-02-02      2   Wednesday  \n",
      "1       0.25 2004-05-12      5   Wednesday  \n",
      "2       0.10 2004-05-31      5      Monday  \n",
      "3       0.10 2004-06-28      6      Monday  \n",
      "4       0.10 2004-06-28      6      Monday  \n"
     ]
    }
   ],
   "source": [
    "#using the datetime python object to extract some useful information like weekday name and othet necessary features\n",
    "data['MONTH'] = pd.DatetimeIndex(data['DATE']).month\n",
    "data['DAY_OF_WEEK'] = data['DATE'].dt.weekday_name\n",
    "df_orig = data.copy() #I will use this copy later\n",
    "print(data.head())"
   ]
  },
  {
   "cell_type": "code",
   "execution_count": 12,
   "metadata": {},
   "outputs": [
    {
     "data": {
      "text/plain": [
       "'The purpose of this kernel is to create some ML that can correctly determine\\nthe cause of fire so we can start by looking at the causes of fires in the data:'"
      ]
     },
     "execution_count": 12,
     "metadata": {},
     "output_type": "execute_result"
    }
   ],
   "source": [
    "'''The purpose of this kernel is to create some ML that can correctly determine\n",
    "the cause of fire so we can start by looking at the causes of fires in the data:'''"
   ]
  },
  {
   "cell_type": "code",
   "execution_count": 13,
   "metadata": {},
   "outputs": [
    {
     "data": {
      "image/png": "[encoded data removed]",
      "text/plain": [
       "<Figure size 432x288 with 1 Axes>"
      ]
     },
     "metadata": {
      "needs_background": "light"
     },
     "output_type": "display_data"
    }
   ],
   "source": [
    "data['STAT_CAUSE_DESCR'].value_counts().plot(kind='barh',color='r')\n",
    "plt.show()"
   ]
  },
  {
   "cell_type": "code",
   "execution_count": 14,
   "metadata": {},
   "outputs": [
    {
     "data": {
      "text/plain": [
       "'\\nThere are 13 causes listed in the dataset. This is quite a lot of classes, one thing I will want to test is:\\ndoes reducing the number of classes improve the accuracy of the ML and if yes, by how much?\\nAre fires more likely on certain days of the week?\\n'"
      ]
     },
     "execution_count": 14,
     "metadata": {},
     "output_type": "execute_result"
    }
   ],
   "source": [
    "'''\n",
    "There are 13 causes listed in the dataset. This is quite a lot of classes, one thing I will want to test is:\n",
    "does reducing the number of classes improve the accuracy of the ML and if yes, by how much?\n",
    "Are fires more likely on certain days of the week?\n",
    "'''"
   ]
  },
  {
   "cell_type": "code",
   "execution_count": 15,
   "metadata": {},
   "outputs": [
    {
     "data": {
      "image/png": "[encoded data removed]",
      "text/plain": [
       "<Figure size 432x288 with 1 Axes>"
      ]
     },
     "metadata": {
      "needs_background": "light"
     },
     "output_type": "display_data"
    }
   ],
   "source": [
    "data['DAY_OF_WEEK'].value_counts().plot(kind='barh',color='coral')\n",
    "plt.show()"
   ]
  },
  {
   "cell_type": "code",
   "execution_count": 16,
   "metadata": {},
   "outputs": [
    {
     "data": {
      "text/plain": [
       "\"So fires are slightly more likely to start/be discovered on the weekend. I imagine these fires are due to \\npeople being careless with campfires or smoking or possibly malicious fires, I doubt fires due\\nnatural causes such as lightning strikes would increase at the weekend. But let's test that:\""
      ]
     },
     "execution_count": 16,
     "metadata": {},
     "output_type": "execute_result"
    }
   ],
   "source": [
    "'''So fires are slightly more likely to start/be discovered on the weekend. I imagine these fires are due to \n",
    "people being careless with campfires or smoking or possibly malicious fires, I doubt fires due\n",
    "natural causes such as lightning strikes would increase at the weekend. But let's test that:'''"
   ]
  },
  {
   "cell_type": "code",
   "execution_count": 17,
   "metadata": {},
   "outputs": [
    {
     "data": {
      "image/png": "[encoded data removed]",
      "text/plain": [
       "<Figure size 432x288 with 1 Axes>"
      ]
     },
     "metadata": {
      "needs_background": "light"
     },
     "output_type": "display_data"
    }
   ],
   "source": [
    "df_lightning = data[data['STAT_CAUSE_DESCR']=='Lightning']\n",
    "df_lightning['DAY_OF_WEEK'].value_counts().plot(kind='barh',color='b')\n",
    "plt.show()"
   ]
  },
  {
   "cell_type": "code",
   "execution_count": 18,
   "metadata": {},
   "outputs": [
    {
     "data": {
      "text/plain": [
       "'There is some small variation but now the weekend is\\nlower. I wonder if the general increase at the weekend is due to malicious fires - Arson:'"
      ]
     },
     "execution_count": 18,
     "metadata": {},
     "output_type": "execute_result"
    }
   ],
   "source": [
    "'''There is some small variation but now the weekend is\n",
    "lower. I wonder if the general increase at the weekend is due to malicious fires - Arson:'''"
   ]
  },
  {
   "cell_type": "code",
   "execution_count": 19,
   "metadata": {},
   "outputs": [
    {
     "data": {
      "image/png": "[encoded data removed]",
      "text/plain": [
       "<Figure size 432x288 with 1 Axes>"
      ]
     },
     "metadata": {
      "needs_background": "light"
     },
     "output_type": "display_data"
    }
   ],
   "source": [
    "df_arson=data[data['STAT_CAUSE_DESCR']=='Arson']\n",
    "df_arson['DAY_OF_WEEK'].value_counts().plot(kind='barh',color='g')\n",
    "plt.show()"
   ]
  },
  {
   "cell_type": "code",
   "execution_count": 20,
   "metadata": {},
   "outputs": [
    {
     "data": {
      "image/png": "[encoded data removed]",
      "text/plain": [
       "<Figure size 432x288 with 1 Axes>"
      ]
     },
     "metadata": {
      "needs_background": "light"
     },
     "output_type": "display_data"
    }
   ],
   "source": [
    "data['STATE'].value_counts().head(n=10).plot(kind='barh',color='coral')\n",
    "plt.show()"
   ]
  },
  {
   "cell_type": "code",
   "execution_count": 21,
   "metadata": {},
   "outputs": [],
   "source": [
    "#Finding the data about the tp 3states in terms of fire\n",
    "df_CA = data[data['STATE']=='CA']\n",
    "df_GA = data[data['STATE']=='GA']\n",
    "df_TX = data[data['STATE']=='TX']"
   ]
  },
  {
   "cell_type": "code",
   "execution_count": 22,
   "metadata": {},
   "outputs": [
    {
     "data": {
      "image/png": "[encoded data removed]",
      "text/plain": [
       "<Figure size 432x288 with 1 Axes>"
      ]
     },
     "metadata": {
      "needs_background": "light"
     },
     "output_type": "display_data"
    }
   ],
   "source": [
    "#Highest or the main cause of th fire in the CA state\n",
    "df_CA['STAT_CAUSE_DESCR'].value_counts().plot(kind='barh',color='coral',title='causes of fires for CA')\n",
    "plt.show()"
   ]
  },
  {
   "cell_type": "code",
   "execution_count": 23,
   "metadata": {},
   "outputs": [
    {
     "data": {
      "image/png": "[encoded data removed]",
      "text/plain": [
       "<Figure size 432x288 with 1 Axes>"
      ]
     },
     "metadata": {
      "needs_background": "light"
     },
     "output_type": "display_data"
    }
   ],
   "source": [
    "df_GA['STAT_CAUSE_DESCR'].value_counts().plot(kind='barh',color='coral',title='causes of fires for GA')\n",
    "plt.show()"
   ]
  },
  {
   "cell_type": "code",
   "execution_count": 24,
   "metadata": {},
   "outputs": [
    {
     "data": {
      "image/png": "[encoded data removed]",
      "text/plain": [
       "<Figure size 432x288 with 1 Axes>"
      ]
     },
     "metadata": {
      "needs_background": "light"
     },
     "output_type": "display_data"
    }
   ],
   "source": [
    "df_TX['STAT_CAUSE_DESCR'].value_counts().plot(kind='barh',color='r',title='causes of fires for TX')\n",
    "plt.show()"
   ]
  },
  {
   "cell_type": "code",
   "execution_count": 25,
   "metadata": {},
   "outputs": [
    {
     "data": {
      "image/png": "[encoded data removed]",
      "text/plain": [
       "<Figure size 432x288 with 1 Axes>"
      ]
     },
     "metadata": {
      "needs_background": "light"
     },
     "output_type": "display_data"
    }
   ],
   "source": [
    "data.plot(kind='scatter',x='LONGITUDE',y='LATITUDE',color='coral',alpha=0.3)\n",
    "plt.show()"
   ]
  },
  {
   "cell_type": "code",
   "execution_count": 26,
   "metadata": {},
   "outputs": [
    {
     "name": "stdout",
     "output_type": "stream",
     "text": [
      "<class 'pandas.core.frame.DataFrame'>\n",
      "RangeIndex: 1880465 entries, 0 to 1880464\n",
      "Data columns (total 10 columns):\n",
      "FIRE_YEAR           int64\n",
      "STAT_CAUSE_DESCR    object\n",
      "LATITUDE            float64\n",
      "LONGITUDE           float64\n",
      "STATE               object\n",
      "DISCOVERY_DATE      float64\n",
      "FIRE_SIZE           float64\n",
      "DATE                datetime64[ns]\n",
      "MONTH               int64\n",
      "DAY_OF_WEEK         object\n",
      "dtypes: datetime64[ns](1), float64(4), int64(2), object(3)\n",
      "memory usage: 143.5+ MB\n"
     ]
    }
   ],
   "source": [
    "data.info()"
   ]
  },
  {
   "cell_type": "code",
   "execution_count": 27,
   "metadata": {},
   "outputs": [
    {
     "name": "stdout",
     "output_type": "stream",
     "text": [
      "   FIRE_YEAR  STAT_CAUSE_DESCR   LATITUDE   LONGITUDE  STATE  DISCOVERY_DATE  \\\n",
      "0       2005                 7  40.036944 -121.005833      4       2453403.5   \n",
      "1       2004                 6  38.933056 -120.404444      4       2453137.5   \n",
      "2       2004                 3  38.984167 -120.735556      4       2453156.5   \n",
      "3       2004                 6  38.559167 -119.913333      4       2453184.5   \n",
      "4       2004                 6  38.559167 -119.933056      4       2453184.5   \n",
      "\n",
      "   FIRE_SIZE       DATE  MONTH  DAY_OF_WEEK  \n",
      "0       0.10 2005-02-02      2            6  \n",
      "1       0.25 2004-05-12      5            6  \n",
      "2       0.10 2004-05-31      5            1  \n",
      "3       0.10 2004-06-28      6            1  \n",
      "4       0.10 2004-06-28      6            1  \n"
     ]
    }
   ],
   "source": [
    "le = preprocessing.LabelEncoder()\n",
    "data['STAT_CAUSE_DESCR'] = le.fit_transform(data['STAT_CAUSE_DESCR'])\n",
    "data['STATE'] = le.fit_transform(data['STATE'])\n",
    "data['DAY_OF_WEEK'] = le.fit_transform(data['DAY_OF_WEEK'])\n",
    "print(data.head())"
   ]
  },
  {
   "cell_type": "code",
   "execution_count": 28,
   "metadata": {},
   "outputs": [
    {
     "data": {
      "image/png": "[encoded data removed]",
      "text/plain": [
       "<Figure size 720x720 with 1 Axes>"
      ]
     },
     "metadata": {
      "needs_background": "light"
     },
     "output_type": "display_data"
    }
   ],
   "source": [
    "def plot_corr(df,size=10):\n",
    "    corr = df.corr()  #the default method is pearson\n",
    "    fig, ax = plt.subplots(figsize=(size, size))\n",
    "    ax.matshow(corr,cmap=plt.cm.Oranges)\n",
    "    plt.xticks(range(len(corr.columns)), corr.columns)\n",
    "    plt.yticks(range(len(corr.columns)), corr.columns)\n",
    "    for tick in ax.get_xticklabels():\n",
    "        tick.set_rotation(45)    \n",
    "    plt.show()\n",
    "    \n",
    "plot_corr(data)"
   ]
  },
  {
   "cell_type": "code",
   "execution_count": 29,
   "metadata": {},
   "outputs": [],
   "source": [
    "data = data.drop('DATE',axis=1)\n",
    "data = data.dropna()"
   ]
  },
  {
   "cell_type": "code",
   "execution_count": 30,
   "metadata": {},
   "outputs": [],
   "source": [
    "#getting the numerical data for machine learning \n",
    "#.values return the array which is the original requirement of the machine learning model\n",
    "X = data.drop(['STAT_CAUSE_DESCR'], axis=1).values\n",
    "y = data['STAT_CAUSE_DESCR'].values"
   ]
  },
  {
   "cell_type": "code",
   "execution_count": 31,
   "metadata": {},
   "outputs": [
    {
     "data": {
      "text/plain": [
       "array([[ 2.00500000e+03,  4.00369444e+01, -1.21005833e+02, ...,\n",
       "         1.00000000e-01,  2.00000000e+00,  6.00000000e+00],\n",
       "       [ 2.00400000e+03,  3.89330556e+01, -1.20404444e+02, ...,\n",
       "         2.50000000e-01,  5.00000000e+00,  6.00000000e+00],\n",
       "       [ 2.00400000e+03,  3.89841667e+01, -1.20735556e+02, ...,\n",
       "         1.00000000e-01,  5.00000000e+00,  1.00000000e+00],\n",
       "       ...,\n",
       "       [ 2.01500000e+03,  3.76176192e+01, -1.20938570e+02, ...,\n",
       "         1.00000000e-01,  5.00000000e+00,  2.00000000e+00],\n",
       "       [ 2.01500000e+03,  3.76722347e+01, -1.20898356e+02, ...,\n",
       "         2.00000000e+00,  1.00000000e+01,  6.00000000e+00],\n",
       "       [ 2.01500000e+03,  3.42632170e+01, -1.16830950e+02, ...,\n",
       "         1.00000000e-01,  3.00000000e+00,  2.00000000e+00]])"
      ]
     },
     "execution_count": 31,
     "metadata": {},
     "output_type": "execute_result"
    }
   ],
   "source": [
    "X"
   ]
  },
  {
   "cell_type": "code",
   "execution_count": 32,
   "metadata": {},
   "outputs": [
    {
     "data": {
      "text/plain": [
       "array([7, 6, 3, ..., 8, 8, 7])"
      ]
     },
     "execution_count": 32,
     "metadata": {},
     "output_type": "execute_result"
    }
   ],
   "source": [
    "y"
   ]
  },
  {
   "cell_type": "code",
   "execution_count": 33,
   "metadata": {},
   "outputs": [
    {
     "data": {
      "text/plain": [
       "13"
      ]
     },
     "execution_count": 33,
     "metadata": {},
     "output_type": "execute_result"
    }
   ],
   "source": [
    "data['STAT_CAUSE_DESCR'].nunique()"
   ]
  },
  {
   "cell_type": "code",
   "execution_count": 34,
   "metadata": {},
   "outputs": [],
   "source": [
    "X_train,X_test,y_train,y_test=train_test_split(X,y,test_size=0.3,random_state=0)"
   ]
  },
  {
   "cell_type": "code",
   "execution_count": 35,
   "metadata": {},
   "outputs": [],
   "source": [
    "#Building the ensemble method model\n",
    "from sklearn.ensemble import RandomForestClassifier,AdaBoostClassifier,BaggingClassifier,ExtraTreesClassifier\n",
    "from sklearn.metrics import confusion_matrix,classification_report\n",
    "classifier=RandomForestClassifier(n_estimators=10)\n",
    "classifier.fit(X_train,y_train)\n",
    "y_pred = classifier.predict(X_test)"
   ]
  },
  {
   "cell_type": "code",
   "execution_count": 36,
   "metadata": {},
   "outputs": [
    {
     "name": "stdout",
     "output_type": "stream",
     "text": [
      "[[46164   998  1444 20668  2746   170  1928  8093  1062    92   270   514\n",
      "     21]\n",
      " [ 1809  7550   372  4323  1092    70  3793  2907   467    35   139   255\n",
      "      6]\n",
      " [ 3105   490  2912  5693  1341   143   869  2605   291    37   399   322\n",
      "     33]\n",
      " [21870  2629  2470 80358  4799   216  3052 10910   957   255   588   928\n",
      "     67]\n",
      " [ 4836  1054  1082 11070 12515   135  3120  8105   728   204   996   457\n",
      "     27]\n",
      " [  365   108   140   422   181  1349   357   383    47    21     9    25\n",
      "      8]\n",
      " [ 2083  1802   354  3491  1686   124 68403  3802  1022    95   252   191\n",
      "     11]\n",
      " [ 9954  2761  1715 19225  7589   307  5970 45845  1646   272   709   988\n",
      "     45]\n",
      " [  993   428   160  1382   657    33  2639  1897 41972    29    16    90\n",
      "      4]\n",
      " [  388   102    81  1246   468    34   440  1040    84   348    11    36\n",
      "     11]\n",
      " [  748   266   243  1809  1147    21   897   755    60    11  4031    65\n",
      "      0]\n",
      " [ 2145   849   606  4994  1319    43  1080  3556   238    32   172   884\n",
      "      7]\n",
      " [  173    47    76   417    92    24    67   185    10    16     2    11\n",
      "     40]]\n",
      "\n",
      "\n",
      "\n",
      "              precision    recall  f1-score   support\n",
      "\n",
      "           0       0.49      0.55      0.52     84170\n",
      "           1       0.40      0.33      0.36     22818\n",
      "           2       0.25      0.16      0.19     18240\n",
      "           3       0.52      0.62      0.57    129099\n",
      "           4       0.35      0.28      0.31     44329\n",
      "           5       0.51      0.40      0.44      3415\n",
      "           6       0.74      0.82      0.78     83316\n",
      "           7       0.51      0.47      0.49     97026\n",
      "           8       0.86      0.83      0.85     50300\n",
      "           9       0.24      0.08      0.12      4289\n",
      "          10       0.53      0.40      0.46     10053\n",
      "          11       0.19      0.06      0.09     15925\n",
      "          12       0.14      0.03      0.06      1160\n",
      "\n",
      "    accuracy                           0.55    564140\n",
      "   macro avg       0.44      0.39      0.40    564140\n",
      "weighted avg       0.54      0.55      0.54    564140\n",
      "\n"
     ]
    }
   ],
   "source": [
    "cm=confusion_matrix(y_test,y_pred)\n",
    "print(cm)\n",
    "acc_score=classification_report(y_test,y_pred)\n",
    "print(\"\\n\\n\")\n",
    "print(acc_score)"
   ]
  },
  {
   "cell_type": "code",
   "execution_count": 37,
   "metadata": {},
   "outputs": [
    {
     "name": "stdout",
     "output_type": "stream",
     "text": [
      "   FIRE_YEAR   LATITUDE   LONGITUDE  STATE  DISCOVERY_DATE  FIRE_SIZE  MONTH  \\\n",
      "0       2005  40.036944 -121.005833      4       2453403.5       0.10      2   \n",
      "1       2004  38.933056 -120.404444      4       2453137.5       0.25      5   \n",
      "2       2004  38.984167 -120.735556      4       2453156.5       0.10      5   \n",
      "3       2004  38.559167 -119.913333      4       2453184.5       0.10      6   \n",
      "4       2004  38.559167 -119.933056      4       2453184.5       0.10      6   \n",
      "\n",
      "   DAY_OF_WEEK  LABEL  \n",
      "0            6      4  \n",
      "1            6      1  \n",
      "2            1      2  \n",
      "3            1      1  \n",
      "4            1      1  \n"
     ]
    }
   ],
   "source": [
    "def set_label(cat):\n",
    "    cause = 0\n",
    "    natural = ['Lightning']\n",
    "    accidental = ['Structure','Fireworks','Powerline','Railroad','Smoking','Children','Campfire','Equipment Use','Debris Burning']\n",
    "    malicious = ['Arson']\n",
    "    other = ['Missing/Undefined','Miscellaneous']\n",
    "    if cat in natural:\n",
    "        cause = 1\n",
    "    elif cat in accidental:\n",
    "        cause = 2\n",
    "    elif cat in malicious:\n",
    "        cause = 3\n",
    "    else:\n",
    "        cause = 4\n",
    "    return cause\n",
    "     \n",
    "data['LABEL'] = df_orig['STAT_CAUSE_DESCR'].apply(lambda x: set_label(x)) # I created a copy of the original df earlier in the kernel\n",
    "data = data.drop('STAT_CAUSE_DESCR',axis=1)\n",
    "print(data.head())"
   ]
  },
  {
   "cell_type": "code",
   "execution_count": 38,
   "metadata": {},
   "outputs": [
    {
     "name": "stdout",
     "output_type": "stream",
     "text": [
      "0.700997979225015\n"
     ]
    }
   ],
   "source": [
    "X = data.drop(['LABEL'], axis=1).values\n",
    "y = data['LABEL'].values\n",
    "X_train, X_test, y_train, y_test = train_test_split(X,y,test_size=0.3, random_state=0)\n",
    "clf_rf = RandomForestClassifier(n_estimators=50)\n",
    "clf_rf = clf_rf.fit(X_train, y_train)\n",
    "print(clf_rf.score(X_test,y_test))"
   ]
  },
  {
   "cell_type": "code",
   "execution_count": 39,
   "metadata": {},
   "outputs": [
    {
     "name": "stdout",
     "output_type": "stream",
     "text": [
      "   FIRE_YEAR STAT_CAUSE_DESCR   LATITUDE   LONGITUDE STATE  DISCOVERY_DATE  \\\n",
      "0       2005    Miscellaneous  40.036944 -121.005833    CA       2453403.5   \n",
      "1       2004        Lightning  38.933056 -120.404444    CA       2453137.5   \n",
      "2       2004   Debris Burning  38.984167 -120.735556    CA       2453156.5   \n",
      "3       2004        Lightning  38.559167 -119.913333    CA       2453184.5   \n",
      "4       2004        Lightning  38.559167 -119.933056    CA       2453184.5   \n",
      "\n",
      "   FIRE_SIZE       DATE  MONTH DAY_OF_WEEK  \n",
      "0       0.10 2005-02-02      2   Wednesday  \n",
      "1       0.25 2004-05-12      5   Wednesday  \n",
      "2       0.10 2004-05-31      5      Monday  \n",
      "3       0.10 2004-06-28      6      Monday  \n",
      "4       0.10 2004-06-28      6      Monday  \n"
     ]
    }
   ],
   "source": [
    "print(df_CA.head())"
   ]
  },
  {
   "cell_type": "code",
   "execution_count": 40,
   "metadata": {},
   "outputs": [
    {
     "name": "stdout",
     "output_type": "stream",
     "text": [
      "   FIRE_YEAR STAT_CAUSE_DESCR   LATITUDE   LONGITUDE STATE  DISCOVERY_DATE  \\\n",
      "0       2005    Miscellaneous  40.036944 -121.005833    CA       2453403.5   \n",
      "1       2004        Lightning  38.933056 -120.404444    CA       2453137.5   \n",
      "2       2004   Debris Burning  38.984167 -120.735556    CA       2453156.5   \n",
      "3       2004        Lightning  38.559167 -119.913333    CA       2453184.5   \n",
      "4       2004        Lightning  38.559167 -119.933056    CA       2453184.5   \n",
      "\n",
      "   FIRE_SIZE       DATE  MONTH DAY_OF_WEEK  ARSON  \n",
      "0       0.10 2005-02-02      2   Wednesday      0  \n",
      "1       0.25 2004-05-12      5   Wednesday      0  \n",
      "2       0.10 2004-05-31      5      Monday      0  \n",
      "3       0.10 2004-06-28      6      Monday      0  \n",
      "4       0.10 2004-06-28      6      Monday      0  \n"
     ]
    },
    {
     "name": "stderr",
     "output_type": "stream",
     "text": [
      "/home/tarun/anaconda3/lib/python3.7/site-packages/ipykernel_launcher.py:8: SettingWithCopyWarning: \n",
      "A value is trying to be set on a copy of a slice from a DataFrame.\n",
      "Try using .loc[row_indexer,col_indexer] = value instead\n",
      "\n",
      "See the caveats in the documentation: http://pandas.pydata.org/pandas-docs/stable/user_guide/indexing.html#returning-a-view-versus-a-copy\n",
      "  \n"
     ]
    }
   ],
   "source": [
    "def set_arson_label(cause):\n",
    "    arson = 0\n",
    "    if cause == 'Arson':\n",
    "        arson = 1\n",
    "    return arson\n",
    "     \n",
    "\n",
    "df_CA['ARSON'] = df_CA['STAT_CAUSE_DESCR'].apply(lambda x: set_arson_label(x)) \n",
    "print(df_CA.head())"
   ]
  },
  {
   "cell_type": "code",
   "execution_count": 41,
   "metadata": {},
   "outputs": [
    {
     "name": "stdout",
     "output_type": "stream",
     "text": [
      "   FIRE_YEAR   LATITUDE   LONGITUDE  DISCOVERY_DATE  MONTH  DAY_OF_WEEK  ARSON\n",
      "0       2005  40.036944 -121.005833       2453403.5      2            6      0\n",
      "1       2004  38.933056 -120.404444       2453137.5      5            6      0\n",
      "2       2004  38.984167 -120.735556       2453156.5      5            1      0\n",
      "3       2004  38.559167 -119.913333       2453184.5      6            1      0\n",
      "4       2004  38.559167 -119.933056       2453184.5      6            1      0\n"
     ]
    }
   ],
   "source": [
    "df_CA = df_CA.drop('DATE',axis=1)\n",
    "df_CA = df_CA.drop('STATE',axis=1)\n",
    "df_CA = df_CA.drop('STAT_CAUSE_DESCR',axis=1)\n",
    "df_CA = df_CA.drop('FIRE_SIZE',axis=1)\n",
    "df_CA = df_CA.dropna()\n",
    "\n",
    "le = preprocessing.LabelEncoder()\n",
    "df_CA['DAY_OF_WEEK'] = le.fit_transform(df_CA['DAY_OF_WEEK'])\n",
    "\n",
    "print(df_CA.head())"
   ]
  },
  {
   "cell_type": "code",
   "execution_count": 42,
   "metadata": {},
   "outputs": [
    {
     "name": "stdout",
     "output_type": "stream",
     "text": [
      "0.9208827925789149\n"
     ]
    }
   ],
   "source": [
    "X = df_CA.drop(['ARSON'], axis=1).values\n",
    "y = df_CA['ARSON'].values\n",
    "X_train, X_test, y_train, y_test = train_test_split(X,y,test_size=0.3, random_state=0) #30% for testing, 70% for training\n",
    "clf_rf = RandomForestClassifier(n_estimators=100)\n",
    "clf_rf = clf_rf.fit(X_train, y_train)\n",
    "print(clf_rf.score(X_test,y_test))"
   ]
  },
  {
   "cell_type": "code",
   "execution_count": 43,
   "metadata": {},
   "outputs": [
    {
     "data": {
      "text/plain": [
       "'\\n\\nSo this meets the goal of 90% or better.\\n\\nSummary: Given some basic data, the kind of data available when a fire is first discovered, it is possible to\\npredict with some accuracy if the fire was the result of arson.\\n'"
      ]
     },
     "execution_count": 43,
     "metadata": {},
     "output_type": "execute_result"
    }
   ],
   "source": [
    "'''\n",
    "\n",
    "So this meets the goal of 90% or better.\n",
    "\n",
    "Summary: Given some basic data, the kind of data available when a fire is first discovered, it is possible to\n",
    "predict with some accuracy if the fire was the result of arson.\n",
    "'''"
   ]
  }
 ],
 "metadata": {
  "kernelspec": {
   "display_name": "Python 3",
   "language": "python",
   "name": "python3"
  },
  "language_info": {
   "codemirror_mode": {
    "name": "ipython",
    "version": 3
   },
   "file_extension": ".py",
   "mimetype": "text/x-python",
   "name": "python",
   "nbconvert_exporter": "python",
   "pygments_lexer": "ipython3",
   "version": "3.7.4"
  }
 },
 "nbformat": 4,
 "nbformat_minor": 2
}
