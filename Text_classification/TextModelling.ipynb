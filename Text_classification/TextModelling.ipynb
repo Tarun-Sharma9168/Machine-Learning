{
 "cells": [
  {
   "cell_type": "code",
   "execution_count": 1,
   "metadata": {},
   "outputs": [
    {
     "data": {
      "text/plain": [
       "'Kickstarter is an American public-benefit corporation[2] based in Brooklyn, \\nNew York, that maintains a global crowdfunding platform focused on creativity \\nand merchandising.[3] The company\\'s stated mission is to \"help bring creative \\nprojects to life\" and we have some '"
      ]
     },
     "execution_count": 1,
     "metadata": {},
     "output_type": "execute_result"
    }
   ],
   "source": [
    "'''Kickstarter is an American public-benefit corporation[2] based in Brooklyn, \n",
    "New York, that maintains a global crowdfunding platform focused on creativity \n",
    "and merchandising.[3] The company's stated mission is to \"help bring creative \n",
    "projects to life\" and we have some '''"
   ]
  },
  {
   "cell_type": "code",
   "execution_count": 2,
   "metadata": {},
   "outputs": [
    {
     "data": {
      "text/plain": [
       "'The datastet contains the blurbs or short description of 215513 projects \\nrunned along 2017, all written in english and all labeled with \"successful\"\\nor \"failed\", if they get the money or not, respectively. From those texts \\nyou can train linguistics models for description, and even embeddings relative to\\nthe case.'"
      ]
     },
     "execution_count": 2,
     "metadata": {},
     "output_type": "execute_result"
    }
   ],
   "source": [
    "'''The datastet contains the blurbs or short description of 215513 projects \n",
    "runned along 2017, all written in english and all labeled with \"successful\"\n",
    "or \"failed\", if they get the money or not, respectively. From those texts \n",
    "you can train linguistics models for description, and even embeddings relative to\n",
    "the case.'''"
   ]
  },
  {
   "cell_type": "code",
   "execution_count": 3,
   "metadata": {},
   "outputs": [
    {
     "data": {
      "text/html": [
       "<div>\n",
       "<style scoped>\n",
       "    .dataframe tbody tr th:only-of-type {\n",
       "        vertical-align: middle;\n",
       "    }\n",
       "\n",
       "    .dataframe tbody tr th {\n",
       "        vertical-align: top;\n",
       "    }\n",
       "\n",
       "    .dataframe thead th {\n",
       "        text-align: right;\n",
       "    }\n",
       "</style>\n",
       "<table border=\"1\" class=\"dataframe\">\n",
       "  <thead>\n",
       "    <tr style=\"text-align: right;\">\n",
       "      <th></th>\n",
       "      <th>Unnamed: 0</th>\n",
       "      <th>blurb</th>\n",
       "      <th>state</th>\n",
       "    </tr>\n",
       "  </thead>\n",
       "  <tbody>\n",
       "    <tr>\n",
       "      <td>0</td>\n",
       "      <td>1</td>\n",
       "      <td>Using their own character, users go on educati...</td>\n",
       "      <td>failed</td>\n",
       "    </tr>\n",
       "    <tr>\n",
       "      <td>1</td>\n",
       "      <td>2</td>\n",
       "      <td>MicroFly is a quadcopter packed with WiFi, 6 s...</td>\n",
       "      <td>successful</td>\n",
       "    </tr>\n",
       "    <tr>\n",
       "      <td>2</td>\n",
       "      <td>3</td>\n",
       "      <td>A small indie press, run as a collective for a...</td>\n",
       "      <td>failed</td>\n",
       "    </tr>\n",
       "    <tr>\n",
       "      <td>3</td>\n",
       "      <td>4</td>\n",
       "      <td>Zylor is a new baby cosplayer! Back this kicks...</td>\n",
       "      <td>failed</td>\n",
       "    </tr>\n",
       "    <tr>\n",
       "      <td>4</td>\n",
       "      <td>5</td>\n",
       "      <td>Hatoful Boyfriend meet Skeletons! A comedy Dat...</td>\n",
       "      <td>failed</td>\n",
       "    </tr>\n",
       "  </tbody>\n",
       "</table>\n",
       "</div>"
      ],
      "text/plain": [
       "   Unnamed: 0                                              blurb       state\n",
       "0           1  Using their own character, users go on educati...      failed\n",
       "1           2  MicroFly is a quadcopter packed with WiFi, 6 s...  successful\n",
       "2           3  A small indie press, run as a collective for a...      failed\n",
       "3           4  Zylor is a new baby cosplayer! Back this kicks...      failed\n",
       "4           5  Hatoful Boyfriend meet Skeletons! A comedy Dat...      failed"
      ]
     },
     "execution_count": 3,
     "metadata": {},
     "output_type": "execute_result"
    }
   ],
   "source": [
    "#Importing the Data Visualisation and Data Manipulation libraries\n",
    "import pandas as pd\n",
    "import numpy as np\n",
    "import matplotlib.pyplot as plt\n",
    "import seaborn as sns\n",
    "\n",
    "\n",
    "#Importing the data\n",
    "data = pd.read_csv(\"df_text_eng.csv\")\n",
    "\n",
    "\n",
    "\n",
    "#Seeing the how it looks like\n",
    "data.head()"
   ]
  },
  {
   "cell_type": "code",
   "execution_count": 4,
   "metadata": {},
   "outputs": [
    {
     "name": "stdout",
     "output_type": "stream",
     "text": [
      "        state  state_id\n",
      "0      failed         0\n",
      "1  successful         1\n",
      "\n",
      "\n",
      "{'failed': 0, 'successful': 1}\n",
      "\n",
      "\n",
      "{0: 'failed', 1: 'successful'}\n",
      "\n",
      "\n"
     ]
    },
    {
     "data": {
      "text/html": [
       "<div>\n",
       "<style scoped>\n",
       "    .dataframe tbody tr th:only-of-type {\n",
       "        vertical-align: middle;\n",
       "    }\n",
       "\n",
       "    .dataframe tbody tr th {\n",
       "        vertical-align: top;\n",
       "    }\n",
       "\n",
       "    .dataframe thead th {\n",
       "        text-align: right;\n",
       "    }\n",
       "</style>\n",
       "<table border=\"1\" class=\"dataframe\">\n",
       "  <thead>\n",
       "    <tr style=\"text-align: right;\">\n",
       "      <th></th>\n",
       "      <th>blurb</th>\n",
       "      <th>state</th>\n",
       "      <th>state_id</th>\n",
       "    </tr>\n",
       "  </thead>\n",
       "  <tbody>\n",
       "    <tr>\n",
       "      <td>0</td>\n",
       "      <td>Using their own character, users go on educati...</td>\n",
       "      <td>failed</td>\n",
       "      <td>0</td>\n",
       "    </tr>\n",
       "    <tr>\n",
       "      <td>1</td>\n",
       "      <td>MicroFly is a quadcopter packed with WiFi, 6 s...</td>\n",
       "      <td>successful</td>\n",
       "      <td>1</td>\n",
       "    </tr>\n",
       "    <tr>\n",
       "      <td>2</td>\n",
       "      <td>A small indie press, run as a collective for a...</td>\n",
       "      <td>failed</td>\n",
       "      <td>0</td>\n",
       "    </tr>\n",
       "    <tr>\n",
       "      <td>3</td>\n",
       "      <td>Zylor is a new baby cosplayer! Back this kicks...</td>\n",
       "      <td>failed</td>\n",
       "      <td>0</td>\n",
       "    </tr>\n",
       "    <tr>\n",
       "      <td>4</td>\n",
       "      <td>Hatoful Boyfriend meet Skeletons! A comedy Dat...</td>\n",
       "      <td>failed</td>\n",
       "      <td>0</td>\n",
       "    </tr>\n",
       "  </tbody>\n",
       "</table>\n",
       "</div>"
      ],
      "text/plain": [
       "                                               blurb       state  state_id\n",
       "0  Using their own character, users go on educati...      failed         0\n",
       "1  MicroFly is a quadcopter packed with WiFi, 6 s...  successful         1\n",
       "2  A small indie press, run as a collective for a...      failed         0\n",
       "3  Zylor is a new baby cosplayer! Back this kicks...      failed         0\n",
       "4  Hatoful Boyfriend meet Skeletons! A comedy Dat...      failed         0"
      ]
     },
     "execution_count": 4,
     "metadata": {},
     "output_type": "execute_result"
    }
   ],
   "source": [
    "#Preprocessing of the data(which includes cleaning ,labelling etc) \n",
    "\n",
    "#Removing the Unnamed: 0 column as it is of no use \n",
    "del data['Unnamed: 0']\n",
    "\n",
    "\n",
    "#Importing the library\n",
    "from io import StringIO\n",
    "\n",
    "\n",
    "#Making new column and factorize the state of the project into numerical values such as 0 or 1 and not \n",
    "#like failed or passed like before as machine learning wants only the numerical data\n",
    "data['state_id'] = data['state'].factorize()[0]\n",
    "\n",
    "\n",
    "\n",
    "#See the output carefully\n",
    "#At the end it sort the values with respect to state_id\n",
    "state_id_df = data[['state', 'state_id']].drop_duplicates().sort_values('state_id')\n",
    "print(state_id_df)\n",
    "print(\"\\n\")\n",
    "\n",
    "#See the output carefully\n",
    "state_to_id = dict(state_id_df.values)\n",
    "print(state_to_id)\n",
    "print(\"\\n\")\n",
    "\n",
    "#Generating the id value\n",
    "id_to_state = dict(state_id_df[['state_id', 'state']].values)\n",
    "print(id_to_state)\n",
    "print(\"\\n\")\n",
    "\n",
    "\n",
    "data.head()"
   ]
  },
  {
   "cell_type": "code",
   "execution_count": 5,
   "metadata": {},
   "outputs": [
    {
     "data": {
      "text/plain": [
       "<matplotlib.axes._subplots.AxesSubplot at 0x7f82eb74bc90>"
      ]
     },
     "execution_count": 5,
     "metadata": {},
     "output_type": "execute_result"
    },
    {
     "data": {
      "image/png": "[encoded data removed]",
      "text/plain": [
       "<Figure size 432x288 with 1 Axes>"
      ]
     },
     "metadata": {
      "needs_background": "light"
     },
     "output_type": "display_data"
    }
   ],
   "source": [
    "#Count plot of the number of sate\n",
    "sns.countplot(data['state'])"
   ]
  },
  {
   "cell_type": "code",
   "execution_count": 6,
   "metadata": {},
   "outputs": [],
   "source": [
    "#importing the regular expression library\n",
    "#And we are removing the punctuations from the text\n",
    "import re\n",
    "def clean(text):\n",
    "    text = str(text)\n",
    "    text = re.findall(r'\\w+', text)#Regular Expressions for punctuation \n",
    "    return ' '.join(text)\n",
    "data['blurb'] = data['blurb'].apply(lambda x: clean(x))"
   ]
  },
  {
   "cell_type": "code",
   "execution_count": 7,
   "metadata": {},
   "outputs": [
    {
     "name": "stdout",
     "output_type": "stream",
     "text": [
      "['This', 'is', 'one', 'two', 'is', 'fine', 'three', 'id', 'very', 'bas']\n"
     ]
    }
   ],
   "source": [
    "#data.head()\n",
    "#This is for the understanding what findall function did\n",
    "tex=\"This is one . two is fine. three id very bas!!!.\"\n",
    "tex=re.findall(r'\\w+',tex)\n",
    "print(tex)"
   ]
  },
  {
   "cell_type": "code",
   "execution_count": 8,
   "metadata": {},
   "outputs": [
    {
     "data": {
      "text/html": [
       "<div>\n",
       "<style scoped>\n",
       "    .dataframe tbody tr th:only-of-type {\n",
       "        vertical-align: middle;\n",
       "    }\n",
       "\n",
       "    .dataframe tbody tr th {\n",
       "        vertical-align: top;\n",
       "    }\n",
       "\n",
       "    .dataframe thead th {\n",
       "        text-align: right;\n",
       "    }\n",
       "</style>\n",
       "<table border=\"1\" class=\"dataframe\">\n",
       "  <thead>\n",
       "    <tr style=\"text-align: right;\">\n",
       "      <th></th>\n",
       "      <th>blurb</th>\n",
       "      <th>state</th>\n",
       "      <th>state_id</th>\n",
       "    </tr>\n",
       "  </thead>\n",
       "  <tbody>\n",
       "    <tr>\n",
       "      <td>0</td>\n",
       "      <td>Using their own character users go on educatio...</td>\n",
       "      <td>failed</td>\n",
       "      <td>0</td>\n",
       "    </tr>\n",
       "    <tr>\n",
       "      <td>1</td>\n",
       "      <td>MicroFly is a quadcopter packed with WiFi 6 se...</td>\n",
       "      <td>successful</td>\n",
       "      <td>1</td>\n",
       "    </tr>\n",
       "    <tr>\n",
       "      <td>2</td>\n",
       "      <td>A small indie press run as a collective for au...</td>\n",
       "      <td>failed</td>\n",
       "      <td>0</td>\n",
       "    </tr>\n",
       "    <tr>\n",
       "      <td>3</td>\n",
       "      <td>Zylor is a new baby cosplayer Back this kickst...</td>\n",
       "      <td>failed</td>\n",
       "      <td>0</td>\n",
       "    </tr>\n",
       "    <tr>\n",
       "      <td>4</td>\n",
       "      <td>Hatoful Boyfriend meet Skeletons A comedy Dati...</td>\n",
       "      <td>failed</td>\n",
       "      <td>0</td>\n",
       "    </tr>\n",
       "  </tbody>\n",
       "</table>\n",
       "</div>"
      ],
      "text/plain": [
       "                                               blurb       state  state_id\n",
       "0  Using their own character users go on educatio...      failed         0\n",
       "1  MicroFly is a quadcopter packed with WiFi 6 se...  successful         1\n",
       "2  A small indie press run as a collective for au...      failed         0\n",
       "3  Zylor is a new baby cosplayer Back this kickst...      failed         0\n",
       "4  Hatoful Boyfriend meet Skeletons A comedy Dati...      failed         0"
      ]
     },
     "execution_count": 8,
     "metadata": {},
     "output_type": "execute_result"
    }
   ],
   "source": [
    "#You will now see the state_id and all \n",
    "data.head()"
   ]
  },
  {
   "cell_type": "code",
   "execution_count": 9,
   "metadata": {},
   "outputs": [],
   "source": [
    "#Splitting the data using the librarie sklearn which has every Ml Model\n",
    "from sklearn.model_selection import train_test_split\n",
    "\n",
    "#Making text into word vectors because machine learning needs some numerical representation\n",
    "from sklearn.feature_extraction.text import TfidfVectorizer\n",
    "\n",
    "#Splitting of the data  and we put 80% data in training and 20% data in testing \n",
    "x_train, x_test, y_train, y_test = train_test_split(data['blurb'], data['state'], train_size=0.8)\n",
    "\n",
    "\n",
    "#First fitting with your data and then transform\n",
    "#You fit and transform both with your training data\n",
    "#Transforming the data\n",
    "vectorizer = TfidfVectorizer().fit(x_train)\n",
    "x_train_v = vectorizer.transform(x_train)\n",
    "x_test_v  = vectorizer.transform(x_test)"
   ]
  },
  {
   "cell_type": "code",
   "execution_count": 10,
   "metadata": {},
   "outputs": [],
   "source": [
    "#Now comes to the machine learning models and all\n",
    "\n",
    "\n",
    "#Linear Classifier\n",
    "from sklearn.linear_model import LogisticRegression, SGDClassifier\n",
    "\n",
    "\n",
    "#Support Vector Machins\n",
    "from sklearn.svm import LinearSVC\n",
    "\n",
    "\n",
    "#It is very imporatant to see the score of the every metrics \n",
    "#It involves accuracy,precision,recall ,f1-score\n",
    "from sklearn.metrics import classification_report\n",
    "\n",
    "#Bayesian Classsifier\n",
    "from sklearn.naive_bayes import MultinomialNB\n",
    "\n",
    "from sklearn.metrics import accuracy_score\n",
    "\n",
    "#Importing the time library to calculate the current time\n",
    "#To check how much time takes by an algorithm\n",
    "from time import time\n",
    "\n",
    "#Making of the list\n",
    "entries = []\n",
    "\n",
    "#Making of the function\n",
    "def train():\n",
    "    models = {#It is the dictionary of classifiers having key value pairs\n",
    "        \"LogisticRegression\": LogisticRegression(),\n",
    "        \"SGDClassifier\": SGDClassifier(),\n",
    "        \"Multinomial\":MultinomialNB(),\n",
    "        \"LinearSVC\": LinearSVC(),\n",
    "    }\n",
    "    for model in models:\n",
    "        print(\"training model\"+model)\n",
    "        start = time()\n",
    "        models[model].fit(x_train_v, y_train)\n",
    "        end = time()\n",
    "        print(\"trained in {} secs\".format(end-start))\n",
    "        y_pred = models[model].predict(x_test_v)\n",
    "        entries.append((model,accuracy_score(y_test, y_pred)))#Appending one tuple to the list\n",
    "    print(entries)    "
   ]
  },
  {
   "cell_type": "code",
   "execution_count": 11,
   "metadata": {},
   "outputs": [
    {
     "name": "stdout",
     "output_type": "stream",
     "text": [
      "training modelLogisticRegression\n"
     ]
    },
    {
     "name": "stderr",
     "output_type": "stream",
     "text": [
      "/home/tarun/anaconda3/lib/python3.7/site-packages/sklearn/linear_model/_logistic.py:939: ConvergenceWarning: lbfgs failed to converge (status=1):\n",
      "STOP: TOTAL NO. of ITERATIONS REACHED LIMIT.\n",
      "\n",
      "Increase the number of iterations (max_iter) or scale the data as shown in:\n",
      "    https://scikit-learn.org/stable/modules/preprocessing.html.\n",
      "Please also refer to the documentation for alternative solver options:\n",
      "    https://scikit-learn.org/stable/modules/linear_model.html#logistic-regression\n",
      "  extra_warning_msg=_LOGISTIC_SOLVER_CONVERGENCE_MSG)\n"
     ]
    },
    {
     "name": "stdout",
     "output_type": "stream",
     "text": [
      "trained in 4.987028121948242 secs\n",
      "training modelSGDClassifier\n",
      "trained in 0.6982629299163818 secs\n",
      "training modelMultinomial\n",
      "trained in 0.5671567916870117 secs\n",
      "training modelLinearSVC\n",
      "trained in 3.6932687759399414 secs\n",
      "[('LogisticRegression', 0.6771454423126001), ('SGDClassifier', 0.6702085701691297), ('Multinomial', 0.6709277776488876), ('LinearSVC', 0.6615084796881887)]\n"
     ]
    }
   ],
   "source": [
    "#Calling of the function\n",
    "train()"
   ]
  },
  {
   "cell_type": "code",
   "execution_count": 12,
   "metadata": {},
   "outputs": [
    {
     "data": {
      "image/png": "[encoded data removed]",
      "text/plain": [
       "<Figure size 432x288 with 1 Axes>"
      ]
     },
     "metadata": {
      "needs_background": "light"
     },
     "output_type": "display_data"
    }
   ],
   "source": [
    "#Now plotting the accuracies simply\n",
    "\n",
    "#Making of the dataframe using the dictionary\n",
    "cv_df = pd.DataFrame(entries, columns=['model_name','accuracy'])\n",
    "\n",
    "#Importing the seaborn libraries\n",
    "import seaborn as sns\n",
    "sns.boxplot(x='model_name', y='accuracy', data=cv_df)\n",
    "sns.stripplot(x='model_name', y='accuracy', data=cv_df, \n",
    "              size=8, jitter=True, edgecolor=\"gray\", linewidth=2)\n",
    "plt.show()"
   ]
  },
  {
   "cell_type": "code",
   "execution_count": 13,
   "metadata": {},
   "outputs": [
    {
     "name": "stderr",
     "output_type": "stream",
     "text": [
      "/home/tarun/anaconda3/lib/python3.7/site-packages/sklearn/linear_model/_logistic.py:939: ConvergenceWarning: lbfgs failed to converge (status=1):\n",
      "STOP: TOTAL NO. of ITERATIONS REACHED LIMIT.\n",
      "\n",
      "Increase the number of iterations (max_iter) or scale the data as shown in:\n",
      "    https://scikit-learn.org/stable/modules/preprocessing.html.\n",
      "Please also refer to the documentation for alternative solver options:\n",
      "    https://scikit-learn.org/stable/modules/linear_model.html#logistic-regression\n",
      "  extra_warning_msg=_LOGISTIC_SOLVER_CONVERGENCE_MSG)\n"
     ]
    },
    {
     "data": {
      "image/png": "[encoded data removed]",
      "text/plain": [
       "<Figure size 720x720 with 2 Axes>"
      ]
     },
     "metadata": {
      "needs_background": "light"
     },
     "output_type": "display_data"
    }
   ],
   "source": [
    "#Building for the Machine learning Model \n",
    "\n",
    "#Building Logistic Regression\n",
    "model = LogisticRegression()\n",
    "\n",
    "#Fitting the model with the training data\n",
    "model.fit(x_train_v, y_train)\n",
    "\n",
    "#Predicting the value with the test data \n",
    "y_pred = model.predict(x_test_v)\n",
    "\n",
    "\n",
    "#import the confusion Matrix\n",
    "from sklearn.metrics import confusion_matrix\n",
    "conf_mat = confusion_matrix(y_test, y_pred)\n",
    "\n",
    "\n",
    "#Plotting the data\n",
    "fig, ax = plt.subplots(figsize=(10,10))\n",
    "pp=sns.heatmap(conf_mat, annot=True, fmt='d',\n",
    "            xticklabels=state_id_df.state.values, yticklabels=state_id_df.state.values)\n",
    "bottom,top=pp.get_ylim();\n",
    "pp.set_ylim(bottom+0.5,top-0.5)\n",
    "plt.ylabel('Actual')\n",
    "plt.xlabel('Predicted')\n",
    "plt.show()"
   ]
  },
  {
   "cell_type": "code",
   "execution_count": 16,
   "metadata": {},
   "outputs": [
    {
     "name": "stdout",
     "output_type": "stream",
     "text": [
      "              precision    recall  f1-score   support\n",
      "\n",
      "      failed       0.67      0.67      0.67     21359\n",
      "  successful       0.68      0.68      0.68     21744\n",
      "\n",
      "    accuracy                           0.68     43103\n",
      "   macro avg       0.68      0.68      0.68     43103\n",
      "weighted avg       0.68      0.68      0.68     43103\n",
      "\n"
     ]
    }
   ],
   "source": [
    "#print the classification report \n",
    "print(classification_report(y_test, y_pred))"
   ]
  }
 ],
 "metadata": {
  "kernelspec": {
   "display_name": "Python 3",
   "language": "python",
   "name": "python3"
  },
  "language_info": {
   "codemirror_mode": {
    "name": "ipython",
    "version": 3
   },
   "file_extension": ".py",
   "mimetype": "text/x-python",
   "name": "python",
   "nbconvert_exporter": "python",
   "pygments_lexer": "ipython3",
   "version": "3.7.4"
  }
 },
 "nbformat": 4,
 "nbformat_minor": 2
}
