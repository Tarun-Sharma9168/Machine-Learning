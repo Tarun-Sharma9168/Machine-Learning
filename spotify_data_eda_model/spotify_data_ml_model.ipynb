{
 "cells": [
  {
   "cell_type": "code",
   "execution_count": 153,
   "metadata": {},
   "outputs": [],
   "source": [
    "#importing the libraries\n",
    "import numpy as np\n",
    "import pandas as pd\n",
    "import matplotlib.pyplot as plt\n",
    "import seaborn as sns\n",
    "import os\n",
    "import warnings\n",
    "from  scipy import stats\n",
    "%matplotlib inline"
   ]
  },
  {
   "cell_type": "code",
   "execution_count": 6,
   "metadata": {},
   "outputs": [],
   "source": [
    "warnings.filterwarnings(\"ignore\")"
   ]
  },
  {
   "cell_type": "code",
   "execution_count": 9,
   "metadata": {},
   "outputs": [
    {
     "data": {
      "text/html": [
       "<div>\n",
       "<style scoped>\n",
       "    .dataframe tbody tr th:only-of-type {\n",
       "        vertical-align: middle;\n",
       "    }\n",
       "\n",
       "    .dataframe tbody tr th {\n",
       "        vertical-align: top;\n",
       "    }\n",
       "\n",
       "    .dataframe thead th {\n",
       "        text-align: right;\n",
       "    }\n",
       "</style>\n",
       "<table border=\"1\" class=\"dataframe\">\n",
       "  <thead>\n",
       "    <tr style=\"text-align: right;\">\n",
       "      <th></th>\n",
       "      <th>Unnamed: 0</th>\n",
       "      <th>Track.Name</th>\n",
       "      <th>Artist.Name</th>\n",
       "      <th>Genre</th>\n",
       "      <th>Beats.Per.Minute</th>\n",
       "      <th>Energy</th>\n",
       "      <th>Danceability</th>\n",
       "      <th>Loudness..dB..</th>\n",
       "      <th>Liveness</th>\n",
       "      <th>Valence.</th>\n",
       "      <th>Length.</th>\n",
       "      <th>Acousticness..</th>\n",
       "      <th>Speechiness.</th>\n",
       "      <th>Popularity</th>\n",
       "    </tr>\n",
       "  </thead>\n",
       "  <tbody>\n",
       "    <tr>\n",
       "      <td>0</td>\n",
       "      <td>1</td>\n",
       "      <td>Señorita</td>\n",
       "      <td>Shawn Mendes</td>\n",
       "      <td>canadian pop</td>\n",
       "      <td>117</td>\n",
       "      <td>55</td>\n",
       "      <td>76</td>\n",
       "      <td>-6</td>\n",
       "      <td>8</td>\n",
       "      <td>75</td>\n",
       "      <td>191</td>\n",
       "      <td>4</td>\n",
       "      <td>3</td>\n",
       "      <td>79</td>\n",
       "    </tr>\n",
       "    <tr>\n",
       "      <td>1</td>\n",
       "      <td>2</td>\n",
       "      <td>China</td>\n",
       "      <td>Anuel AA</td>\n",
       "      <td>reggaeton flow</td>\n",
       "      <td>105</td>\n",
       "      <td>81</td>\n",
       "      <td>79</td>\n",
       "      <td>-4</td>\n",
       "      <td>8</td>\n",
       "      <td>61</td>\n",
       "      <td>302</td>\n",
       "      <td>8</td>\n",
       "      <td>9</td>\n",
       "      <td>92</td>\n",
       "    </tr>\n",
       "    <tr>\n",
       "      <td>2</td>\n",
       "      <td>3</td>\n",
       "      <td>boyfriend (with Social House)</td>\n",
       "      <td>Ariana Grande</td>\n",
       "      <td>dance pop</td>\n",
       "      <td>190</td>\n",
       "      <td>80</td>\n",
       "      <td>40</td>\n",
       "      <td>-4</td>\n",
       "      <td>16</td>\n",
       "      <td>70</td>\n",
       "      <td>186</td>\n",
       "      <td>12</td>\n",
       "      <td>46</td>\n",
       "      <td>85</td>\n",
       "    </tr>\n",
       "    <tr>\n",
       "      <td>3</td>\n",
       "      <td>4</td>\n",
       "      <td>Beautiful People (feat. Khalid)</td>\n",
       "      <td>Ed Sheeran</td>\n",
       "      <td>pop</td>\n",
       "      <td>93</td>\n",
       "      <td>65</td>\n",
       "      <td>64</td>\n",
       "      <td>-8</td>\n",
       "      <td>8</td>\n",
       "      <td>55</td>\n",
       "      <td>198</td>\n",
       "      <td>12</td>\n",
       "      <td>19</td>\n",
       "      <td>86</td>\n",
       "    </tr>\n",
       "    <tr>\n",
       "      <td>4</td>\n",
       "      <td>5</td>\n",
       "      <td>Goodbyes (Feat. Young Thug)</td>\n",
       "      <td>Post Malone</td>\n",
       "      <td>dfw rap</td>\n",
       "      <td>150</td>\n",
       "      <td>65</td>\n",
       "      <td>58</td>\n",
       "      <td>-4</td>\n",
       "      <td>11</td>\n",
       "      <td>18</td>\n",
       "      <td>175</td>\n",
       "      <td>45</td>\n",
       "      <td>7</td>\n",
       "      <td>94</td>\n",
       "    </tr>\n",
       "  </tbody>\n",
       "</table>\n",
       "</div>"
      ],
      "text/plain": [
       "   Unnamed: 0                       Track.Name    Artist.Name           Genre  \\\n",
       "0           1                         Señorita   Shawn Mendes    canadian pop   \n",
       "1           2                            China       Anuel AA  reggaeton flow   \n",
       "2           3    boyfriend (with Social House)  Ariana Grande       dance pop   \n",
       "3           4  Beautiful People (feat. Khalid)     Ed Sheeran             pop   \n",
       "4           5      Goodbyes (Feat. Young Thug)    Post Malone         dfw rap   \n",
       "\n",
       "   Beats.Per.Minute  Energy  Danceability  Loudness..dB..  Liveness  Valence.  \\\n",
       "0               117      55            76              -6         8        75   \n",
       "1               105      81            79              -4         8        61   \n",
       "2               190      80            40              -4        16        70   \n",
       "3                93      65            64              -8         8        55   \n",
       "4               150      65            58              -4        11        18   \n",
       "\n",
       "   Length.  Acousticness..  Speechiness.  Popularity  \n",
       "0      191               4             3          79  \n",
       "1      302               8             9          92  \n",
       "2      186              12            46          85  \n",
       "3      198              12            19          86  \n",
       "4      175              45             7          94  "
      ]
     },
     "execution_count": 9,
     "metadata": {},
     "output_type": "execute_result"
    }
   ],
   "source": [
    "#importing the dataset\n",
    "data = pd.read_csv('song_data.csv', encoding='ISO-8859-1')\n",
    "data.head()"
   ]
  },
  {
   "cell_type": "code",
   "execution_count": 10,
   "metadata": {},
   "outputs": [],
   "source": [
    "del data[\"Unnamed: 0\"]"
   ]
  },
  {
   "cell_type": "code",
   "execution_count": 11,
   "metadata": {},
   "outputs": [
    {
     "data": {
      "text/html": [
       "<div>\n",
       "<style scoped>\n",
       "    .dataframe tbody tr th:only-of-type {\n",
       "        vertical-align: middle;\n",
       "    }\n",
       "\n",
       "    .dataframe tbody tr th {\n",
       "        vertical-align: top;\n",
       "    }\n",
       "\n",
       "    .dataframe thead th {\n",
       "        text-align: right;\n",
       "    }\n",
       "</style>\n",
       "<table border=\"1\" class=\"dataframe\">\n",
       "  <thead>\n",
       "    <tr style=\"text-align: right;\">\n",
       "      <th></th>\n",
       "      <th>Track.Name</th>\n",
       "      <th>Artist.Name</th>\n",
       "      <th>Genre</th>\n",
       "      <th>Beats.Per.Minute</th>\n",
       "      <th>Energy</th>\n",
       "      <th>Danceability</th>\n",
       "      <th>Loudness..dB..</th>\n",
       "      <th>Liveness</th>\n",
       "      <th>Valence.</th>\n",
       "      <th>Length.</th>\n",
       "      <th>Acousticness..</th>\n",
       "      <th>Speechiness.</th>\n",
       "      <th>Popularity</th>\n",
       "    </tr>\n",
       "  </thead>\n",
       "  <tbody>\n",
       "    <tr>\n",
       "      <td>0</td>\n",
       "      <td>Señorita</td>\n",
       "      <td>Shawn Mendes</td>\n",
       "      <td>canadian pop</td>\n",
       "      <td>117</td>\n",
       "      <td>55</td>\n",
       "      <td>76</td>\n",
       "      <td>-6</td>\n",
       "      <td>8</td>\n",
       "      <td>75</td>\n",
       "      <td>191</td>\n",
       "      <td>4</td>\n",
       "      <td>3</td>\n",
       "      <td>79</td>\n",
       "    </tr>\n",
       "    <tr>\n",
       "      <td>1</td>\n",
       "      <td>China</td>\n",
       "      <td>Anuel AA</td>\n",
       "      <td>reggaeton flow</td>\n",
       "      <td>105</td>\n",
       "      <td>81</td>\n",
       "      <td>79</td>\n",
       "      <td>-4</td>\n",
       "      <td>8</td>\n",
       "      <td>61</td>\n",
       "      <td>302</td>\n",
       "      <td>8</td>\n",
       "      <td>9</td>\n",
       "      <td>92</td>\n",
       "    </tr>\n",
       "    <tr>\n",
       "      <td>2</td>\n",
       "      <td>boyfriend (with Social House)</td>\n",
       "      <td>Ariana Grande</td>\n",
       "      <td>dance pop</td>\n",
       "      <td>190</td>\n",
       "      <td>80</td>\n",
       "      <td>40</td>\n",
       "      <td>-4</td>\n",
       "      <td>16</td>\n",
       "      <td>70</td>\n",
       "      <td>186</td>\n",
       "      <td>12</td>\n",
       "      <td>46</td>\n",
       "      <td>85</td>\n",
       "    </tr>\n",
       "    <tr>\n",
       "      <td>3</td>\n",
       "      <td>Beautiful People (feat. Khalid)</td>\n",
       "      <td>Ed Sheeran</td>\n",
       "      <td>pop</td>\n",
       "      <td>93</td>\n",
       "      <td>65</td>\n",
       "      <td>64</td>\n",
       "      <td>-8</td>\n",
       "      <td>8</td>\n",
       "      <td>55</td>\n",
       "      <td>198</td>\n",
       "      <td>12</td>\n",
       "      <td>19</td>\n",
       "      <td>86</td>\n",
       "    </tr>\n",
       "    <tr>\n",
       "      <td>4</td>\n",
       "      <td>Goodbyes (Feat. Young Thug)</td>\n",
       "      <td>Post Malone</td>\n",
       "      <td>dfw rap</td>\n",
       "      <td>150</td>\n",
       "      <td>65</td>\n",
       "      <td>58</td>\n",
       "      <td>-4</td>\n",
       "      <td>11</td>\n",
       "      <td>18</td>\n",
       "      <td>175</td>\n",
       "      <td>45</td>\n",
       "      <td>7</td>\n",
       "      <td>94</td>\n",
       "    </tr>\n",
       "  </tbody>\n",
       "</table>\n",
       "</div>"
      ],
      "text/plain": [
       "                        Track.Name    Artist.Name           Genre  \\\n",
       "0                         Señorita   Shawn Mendes    canadian pop   \n",
       "1                            China       Anuel AA  reggaeton flow   \n",
       "2    boyfriend (with Social House)  Ariana Grande       dance pop   \n",
       "3  Beautiful People (feat. Khalid)     Ed Sheeran             pop   \n",
       "4      Goodbyes (Feat. Young Thug)    Post Malone         dfw rap   \n",
       "\n",
       "   Beats.Per.Minute  Energy  Danceability  Loudness..dB..  Liveness  Valence.  \\\n",
       "0               117      55            76              -6         8        75   \n",
       "1               105      81            79              -4         8        61   \n",
       "2               190      80            40              -4        16        70   \n",
       "3                93      65            64              -8         8        55   \n",
       "4               150      65            58              -4        11        18   \n",
       "\n",
       "   Length.  Acousticness..  Speechiness.  Popularity  \n",
       "0      191               4             3          79  \n",
       "1      302               8             9          92  \n",
       "2      186              12            46          85  \n",
       "3      198              12            19          86  \n",
       "4      175              45             7          94  "
      ]
     },
     "execution_count": 11,
     "metadata": {},
     "output_type": "execute_result"
    }
   ],
   "source": [
    "data.head()"
   ]
  },
  {
   "cell_type": "code",
   "execution_count": 19,
   "metadata": {},
   "outputs": [
    {
     "data": {
      "text/html": [
       "<div>\n",
       "<style scoped>\n",
       "    .dataframe tbody tr th:only-of-type {\n",
       "        vertical-align: middle;\n",
       "    }\n",
       "\n",
       "    .dataframe tbody tr th {\n",
       "        vertical-align: top;\n",
       "    }\n",
       "\n",
       "    .dataframe thead th {\n",
       "        text-align: right;\n",
       "    }\n",
       "</style>\n",
       "<table border=\"1\" class=\"dataframe\">\n",
       "  <thead>\n",
       "    <tr style=\"text-align: right;\">\n",
       "      <th></th>\n",
       "      <th>track_name</th>\n",
       "      <th>artist_name</th>\n",
       "      <th>Genre</th>\n",
       "      <th>beats_per_minute</th>\n",
       "      <th>Energy</th>\n",
       "      <th>Danceability</th>\n",
       "      <th>Loudness(dB)</th>\n",
       "      <th>Liveness</th>\n",
       "      <th>Valence</th>\n",
       "      <th>Length</th>\n",
       "      <th>Acousticness</th>\n",
       "      <th>Speechiness</th>\n",
       "      <th>Popularity</th>\n",
       "    </tr>\n",
       "  </thead>\n",
       "  <tbody>\n",
       "    <tr>\n",
       "      <td>0</td>\n",
       "      <td>Señorita</td>\n",
       "      <td>Shawn Mendes</td>\n",
       "      <td>canadian pop</td>\n",
       "      <td>117</td>\n",
       "      <td>55</td>\n",
       "      <td>76</td>\n",
       "      <td>-6</td>\n",
       "      <td>8</td>\n",
       "      <td>75</td>\n",
       "      <td>191</td>\n",
       "      <td>4</td>\n",
       "      <td>3</td>\n",
       "      <td>79</td>\n",
       "    </tr>\n",
       "    <tr>\n",
       "      <td>1</td>\n",
       "      <td>China</td>\n",
       "      <td>Anuel AA</td>\n",
       "      <td>reggaeton flow</td>\n",
       "      <td>105</td>\n",
       "      <td>81</td>\n",
       "      <td>79</td>\n",
       "      <td>-4</td>\n",
       "      <td>8</td>\n",
       "      <td>61</td>\n",
       "      <td>302</td>\n",
       "      <td>8</td>\n",
       "      <td>9</td>\n",
       "      <td>92</td>\n",
       "    </tr>\n",
       "    <tr>\n",
       "      <td>2</td>\n",
       "      <td>boyfriend (with Social House)</td>\n",
       "      <td>Ariana Grande</td>\n",
       "      <td>dance pop</td>\n",
       "      <td>190</td>\n",
       "      <td>80</td>\n",
       "      <td>40</td>\n",
       "      <td>-4</td>\n",
       "      <td>16</td>\n",
       "      <td>70</td>\n",
       "      <td>186</td>\n",
       "      <td>12</td>\n",
       "      <td>46</td>\n",
       "      <td>85</td>\n",
       "    </tr>\n",
       "    <tr>\n",
       "      <td>3</td>\n",
       "      <td>Beautiful People (feat. Khalid)</td>\n",
       "      <td>Ed Sheeran</td>\n",
       "      <td>pop</td>\n",
       "      <td>93</td>\n",
       "      <td>65</td>\n",
       "      <td>64</td>\n",
       "      <td>-8</td>\n",
       "      <td>8</td>\n",
       "      <td>55</td>\n",
       "      <td>198</td>\n",
       "      <td>12</td>\n",
       "      <td>19</td>\n",
       "      <td>86</td>\n",
       "    </tr>\n",
       "    <tr>\n",
       "      <td>4</td>\n",
       "      <td>Goodbyes (Feat. Young Thug)</td>\n",
       "      <td>Post Malone</td>\n",
       "      <td>dfw rap</td>\n",
       "      <td>150</td>\n",
       "      <td>65</td>\n",
       "      <td>58</td>\n",
       "      <td>-4</td>\n",
       "      <td>11</td>\n",
       "      <td>18</td>\n",
       "      <td>175</td>\n",
       "      <td>45</td>\n",
       "      <td>7</td>\n",
       "      <td>94</td>\n",
       "    </tr>\n",
       "  </tbody>\n",
       "</table>\n",
       "</div>"
      ],
      "text/plain": [
       "                        track_name    artist_name           Genre  \\\n",
       "0                         Señorita   Shawn Mendes    canadian pop   \n",
       "1                            China       Anuel AA  reggaeton flow   \n",
       "2    boyfriend (with Social House)  Ariana Grande       dance pop   \n",
       "3  Beautiful People (feat. Khalid)     Ed Sheeran             pop   \n",
       "4      Goodbyes (Feat. Young Thug)    Post Malone         dfw rap   \n",
       "\n",
       "   beats_per_minute  Energy  Danceability  Loudness(dB)  Liveness  Valence  \\\n",
       "0               117      55            76            -6         8       75   \n",
       "1               105      81            79            -4         8       61   \n",
       "2               190      80            40            -4        16       70   \n",
       "3                93      65            64            -8         8       55   \n",
       "4               150      65            58            -4        11       18   \n",
       "\n",
       "   Length  Acousticness  Speechiness  Popularity  \n",
       "0     191             4            3          79  \n",
       "1     302             8            9          92  \n",
       "2     186            12           46          85  \n",
       "3     198            12           19          86  \n",
       "4     175            45            7          94  "
      ]
     },
     "execution_count": 19,
     "metadata": {},
     "output_type": "execute_result"
    }
   ],
   "source": [
    "#Renaming the columns\n",
    "data.rename(columns={'Track.Name':'track_name','Artist.Name':'artist_name','Beats.Per.Minute':'beats_per_minute','Loudness..dB..':'Loudness(dB)','Valence.':'Valence','Length.':'Length', 'Acousticness..':'Acousticness','Speechiness.':'Speechiness'},inplace=True)\n",
    "data.head()"
   ]
  },
  {
   "cell_type": "code",
   "execution_count": 23,
   "metadata": {},
   "outputs": [
    {
     "name": "stdout",
     "output_type": "stream",
     "text": [
      "track_name          object\n",
      "artist_name         object\n",
      "Genre               object\n",
      "beats_per_minute     int64\n",
      "Energy               int64\n",
      "Danceability         int64\n",
      "Loudness(dB)         int64\n",
      "Liveness             int64\n",
      "Valence              int64\n",
      "Length               int64\n",
      "Acousticness         int64\n",
      "Speechiness          int64\n",
      "Popularity           int64\n",
      "dtype: object\n"
     ]
    }
   ],
   "source": [
    "print(data.dtypes)"
   ]
  },
  {
   "cell_type": "code",
   "execution_count": 24,
   "metadata": {},
   "outputs": [
    {
     "data": {
      "text/html": [
       "<div>\n",
       "<style scoped>\n",
       "    .dataframe tbody tr th:only-of-type {\n",
       "        vertical-align: middle;\n",
       "    }\n",
       "\n",
       "    .dataframe tbody tr th {\n",
       "        vertical-align: top;\n",
       "    }\n",
       "\n",
       "    .dataframe thead th {\n",
       "        text-align: right;\n",
       "    }\n",
       "</style>\n",
       "<table border=\"1\" class=\"dataframe\">\n",
       "  <thead>\n",
       "    <tr style=\"text-align: right;\">\n",
       "      <th></th>\n",
       "      <th>track_name</th>\n",
       "      <th>artist_name</th>\n",
       "      <th>Genre</th>\n",
       "      <th>beats_per_minute</th>\n",
       "      <th>Energy</th>\n",
       "      <th>Danceability</th>\n",
       "      <th>Loudness(dB)</th>\n",
       "      <th>Liveness</th>\n",
       "      <th>Valence</th>\n",
       "      <th>Length</th>\n",
       "      <th>Acousticness</th>\n",
       "      <th>Speechiness</th>\n",
       "      <th>Popularity</th>\n",
       "    </tr>\n",
       "  </thead>\n",
       "  <tbody>\n",
       "    <tr>\n",
       "      <td>0</td>\n",
       "      <td>Señorita</td>\n",
       "      <td>Shawn Mendes</td>\n",
       "      <td>canadian pop</td>\n",
       "      <td>117</td>\n",
       "      <td>55</td>\n",
       "      <td>76</td>\n",
       "      <td>-6</td>\n",
       "      <td>8</td>\n",
       "      <td>75</td>\n",
       "      <td>191</td>\n",
       "      <td>4</td>\n",
       "      <td>3</td>\n",
       "      <td>79</td>\n",
       "    </tr>\n",
       "    <tr>\n",
       "      <td>1</td>\n",
       "      <td>China</td>\n",
       "      <td>Anuel AA</td>\n",
       "      <td>reggaeton flow</td>\n",
       "      <td>105</td>\n",
       "      <td>81</td>\n",
       "      <td>79</td>\n",
       "      <td>-4</td>\n",
       "      <td>8</td>\n",
       "      <td>61</td>\n",
       "      <td>302</td>\n",
       "      <td>8</td>\n",
       "      <td>9</td>\n",
       "      <td>92</td>\n",
       "    </tr>\n",
       "    <tr>\n",
       "      <td>2</td>\n",
       "      <td>boyfriend (with Social House)</td>\n",
       "      <td>Ariana Grande</td>\n",
       "      <td>dance pop</td>\n",
       "      <td>190</td>\n",
       "      <td>80</td>\n",
       "      <td>40</td>\n",
       "      <td>-4</td>\n",
       "      <td>16</td>\n",
       "      <td>70</td>\n",
       "      <td>186</td>\n",
       "      <td>12</td>\n",
       "      <td>46</td>\n",
       "      <td>85</td>\n",
       "    </tr>\n",
       "    <tr>\n",
       "      <td>3</td>\n",
       "      <td>Beautiful People (feat. Khalid)</td>\n",
       "      <td>Ed Sheeran</td>\n",
       "      <td>pop</td>\n",
       "      <td>93</td>\n",
       "      <td>65</td>\n",
       "      <td>64</td>\n",
       "      <td>-8</td>\n",
       "      <td>8</td>\n",
       "      <td>55</td>\n",
       "      <td>198</td>\n",
       "      <td>12</td>\n",
       "      <td>19</td>\n",
       "      <td>86</td>\n",
       "    </tr>\n",
       "    <tr>\n",
       "      <td>4</td>\n",
       "      <td>Goodbyes (Feat. Young Thug)</td>\n",
       "      <td>Post Malone</td>\n",
       "      <td>dfw rap</td>\n",
       "      <td>150</td>\n",
       "      <td>65</td>\n",
       "      <td>58</td>\n",
       "      <td>-4</td>\n",
       "      <td>11</td>\n",
       "      <td>18</td>\n",
       "      <td>175</td>\n",
       "      <td>45</td>\n",
       "      <td>7</td>\n",
       "      <td>94</td>\n",
       "    </tr>\n",
       "  </tbody>\n",
       "</table>\n",
       "</div>"
      ],
      "text/plain": [
       "                        track_name    artist_name           Genre  \\\n",
       "0                         Señorita   Shawn Mendes    canadian pop   \n",
       "1                            China       Anuel AA  reggaeton flow   \n",
       "2    boyfriend (with Social House)  Ariana Grande       dance pop   \n",
       "3  Beautiful People (feat. Khalid)     Ed Sheeran             pop   \n",
       "4      Goodbyes (Feat. Young Thug)    Post Malone         dfw rap   \n",
       "\n",
       "   beats_per_minute  Energy  Danceability  Loudness(dB)  Liveness  Valence  \\\n",
       "0               117      55            76            -6         8       75   \n",
       "1               105      81            79            -4         8       61   \n",
       "2               190      80            40            -4        16       70   \n",
       "3                93      65            64            -8         8       55   \n",
       "4               150      65            58            -4        11       18   \n",
       "\n",
       "   Length  Acousticness  Speechiness  Popularity  \n",
       "0     191             4            3          79  \n",
       "1     302             8            9          92  \n",
       "2     186            12           46          85  \n",
       "3     198            12           19          86  \n",
       "4     175            45            7          94  "
      ]
     },
     "execution_count": 24,
     "metadata": {},
     "output_type": "execute_result"
    }
   ],
   "source": [
    "data.head()"
   ]
  },
  {
   "cell_type": "code",
   "execution_count": 25,
   "metadata": {},
   "outputs": [
    {
     "name": "stdout",
     "output_type": "stream",
     "text": [
      "<class 'pandas.core.series.Series'>\n"
     ]
    }
   ],
   "source": [
    "print(type(data['Genre']))"
   ]
  },
  {
   "cell_type": "code",
   "execution_count": 39,
   "metadata": {},
   "outputs": [
    {
     "data": {
      "text/plain": [
       "Genre\n",
       "atl hip hop         1\n",
       "australian pop      1\n",
       "big room            1\n",
       "boy band            1\n",
       "brostep             2\n",
       "canadian hip hop    3\n",
       "canadian pop        2\n",
       "country rap         2\n",
       "dance pop           8\n",
       "dfw rap             2\n",
       "edm                 3\n",
       "electropop          2\n",
       "escape room         1\n",
       "latin               5\n",
       "panamanian pop      2\n",
       "pop                 7\n",
       "pop house           1\n",
       "r&b en espanol      1\n",
       "reggaeton           2\n",
       "reggaeton flow      2\n",
       "trap music          1\n",
       "dtype: int64"
      ]
     },
     "execution_count": 39,
     "metadata": {},
     "output_type": "execute_result"
    }
   ],
   "source": [
    "genre_group=data.groupby('Genre').size()\n",
    "genre_group"
   ]
  },
  {
   "cell_type": "code",
   "execution_count": 36,
   "metadata": {},
   "outputs": [
    {
     "data": {
      "text/plain": [
       "array(['canadian pop', 'reggaeton flow', 'dance pop', 'pop', 'dfw rap',\n",
       "       'pop', 'trap music', 'pop', 'country rap', 'electropop',\n",
       "       'reggaeton', 'dance pop', 'pop', 'panamanian pop',\n",
       "       'canadian hip hop', 'dance pop', 'latin', 'dfw rap',\n",
       "       'canadian hip hop', 'escape room', 'pop house', 'country rap',\n",
       "       'reggaeton flow', 'latin', 'electropop', 'canadian pop',\n",
       "       'australian pop', 'canadian hip hop', 'latin', 'latin', 'edm',\n",
       "       'dance pop', 'reggaeton', 'atl hip hop', 'dance pop', 'big room',\n",
       "       'panamanian pop', 'pop', 'boy band', 'dance pop', 'edm',\n",
       "       'dance pop', 'dance pop', 'pop', 'r&b en espanol', 'brostep',\n",
       "       'latin', 'brostep', 'edm', 'pop'], dtype=object)"
      ]
     },
     "execution_count": 36,
     "metadata": {},
     "output_type": "execute_result"
    }
   ],
   "source": [
    "#if we dataframe.values then we get only the array\n",
    "#means .values return the array\n",
    "#and if you want to get list then you have to convert it into tolist\n",
    "genre_list = data['Genre'].values\n",
    "genre_list"
   ]
  },
  {
   "cell_type": "code",
   "execution_count": 41,
   "metadata": {},
   "outputs": [
    {
     "data": {
      "text/plain": [
       "['canadian pop',\n",
       " 'reggaeton flow',\n",
       " 'dance pop',\n",
       " 'pop',\n",
       " 'dfw rap',\n",
       " 'pop',\n",
       " 'trap music',\n",
       " 'pop',\n",
       " 'country rap',\n",
       " 'electropop',\n",
       " 'reggaeton',\n",
       " 'dance pop',\n",
       " 'pop',\n",
       " 'panamanian pop',\n",
       " 'canadian hip hop',\n",
       " 'dance pop',\n",
       " 'latin',\n",
       " 'dfw rap',\n",
       " 'canadian hip hop',\n",
       " 'escape room',\n",
       " 'pop house',\n",
       " 'country rap',\n",
       " 'reggaeton flow',\n",
       " 'latin',\n",
       " 'electropop',\n",
       " 'canadian pop',\n",
       " 'australian pop',\n",
       " 'canadian hip hop',\n",
       " 'latin',\n",
       " 'latin',\n",
       " 'edm',\n",
       " 'dance pop',\n",
       " 'reggaeton',\n",
       " 'atl hip hop',\n",
       " 'dance pop',\n",
       " 'big room',\n",
       " 'panamanian pop',\n",
       " 'pop',\n",
       " 'boy band',\n",
       " 'dance pop',\n",
       " 'edm',\n",
       " 'dance pop',\n",
       " 'dance pop',\n",
       " 'pop',\n",
       " 'r&b en espanol',\n",
       " 'brostep',\n",
       " 'latin',\n",
       " 'brostep',\n",
       " 'edm',\n",
       " 'pop']"
      ]
     },
     "execution_count": 41,
     "metadata": {},
     "output_type": "execute_result"
    }
   ],
   "source": [
    "#Here it converts from the array into list\n",
    "genre_list.tolist()"
   ]
  },
  {
   "cell_type": "code",
   "execution_count": 43,
   "metadata": {},
   "outputs": [
    {
     "data": {
      "text/plain": [
       "['track_name',\n",
       " 'artist_name',\n",
       " 'Genre',\n",
       " 'beats_per_minute',\n",
       " 'Energy',\n",
       " 'Danceability',\n",
       " 'Loudness(dB)',\n",
       " 'Liveness',\n",
       " 'Valence',\n",
       " 'Length',\n",
       " 'Acousticness',\n",
       " 'Speechiness',\n",
       " 'Popularity']"
      ]
     },
     "execution_count": 43,
     "metadata": {},
     "output_type": "execute_result"
    }
   ],
   "source": [
    "#we can do some analysis on the basis of the artistnames\n",
    "list(data.columns)"
   ]
  },
  {
   "cell_type": "code",
   "execution_count": 45,
   "metadata": {},
   "outputs": [
    {
     "data": {
      "text/plain": [
       "artist_name\n",
       "Ali Gatie           1\n",
       "Anuel AA            1\n",
       "Ariana Grande       2\n",
       "Bad Bunny           1\n",
       "Billie Eilish       2\n",
       "Chris Brown         1\n",
       "DJ Snake            1\n",
       "Daddy Yankee        1\n",
       "Drake               1\n",
       "Ed Sheeran          4\n",
       "J Balvin            2\n",
       "Jhay Cortez         1\n",
       "Jonas Brothers      1\n",
       "Katy Perry          1\n",
       "Khalid              1\n",
       "Kygo                1\n",
       "Lady Gaga           1\n",
       "Lauv                1\n",
       "Lewis Capaldi       1\n",
       "Lil Nas X           2\n",
       "Lil Tecca           1\n",
       "Lizzo               1\n",
       "Lunay               1\n",
       "MEDUZA              1\n",
       "Maluma              1\n",
       "Marshmello          2\n",
       "Martin Garrix       1\n",
       "Nicky Jam           1\n",
       "Post Malone         2\n",
       "ROSALÍA             1\n",
       "Sam Smith           1\n",
       "Sech                2\n",
       "Shawn Mendes        2\n",
       "Taylor Swift        1\n",
       "The Chainsmokers    2\n",
       "Tones and I         1\n",
       "Y2K                 1\n",
       "Young Thug          1\n",
       "dtype: int64"
      ]
     },
     "execution_count": 45,
     "metadata": {},
     "output_type": "execute_result"
    }
   ],
   "source": [
    "artist_size=data.groupby('artist_name').size()\n",
    "artist_size"
   ]
  },
  {
   "cell_type": "code",
   "execution_count": 47,
   "metadata": {},
   "outputs": [
    {
     "data": {
      "text/plain": [
       "array(['Shawn Mendes', 'Anuel AA', 'Ariana Grande', 'Ed Sheeran',\n",
       "       'Post Malone', 'Ed Sheeran', 'Lil Tecca', 'Sam Smith', 'Lil Nas X',\n",
       "       'Billie Eilish', 'Bad Bunny', 'DJ Snake', 'Lewis Capaldi', 'Sech',\n",
       "       'Drake', 'Chris Brown', 'J Balvin', 'Post Malone', 'Y2K', 'Lizzo',\n",
       "       'MEDUZA', 'Lil Nas X', 'Jhay Cortez', 'Lunay', 'Billie Eilish',\n",
       "       'Shawn Mendes', 'Tones and I', 'Ali Gatie', 'Daddy Yankee',\n",
       "       'J Balvin', 'The Chainsmokers', 'Ariana Grande', 'Maluma',\n",
       "       'Young Thug', 'Katy Perry', 'Martin Garrix', 'Sech', 'Ed Sheeran',\n",
       "       'Jonas Brothers', 'Lauv', 'Kygo', 'Taylor Swift', 'Lady Gaga',\n",
       "       'Khalid', 'ROSALÍA', 'Marshmello', 'Nicky Jam', 'Marshmello',\n",
       "       'The Chainsmokers', 'Ed Sheeran'], dtype=object)"
      ]
     },
     "execution_count": 47,
     "metadata": {},
     "output_type": "execute_result"
    }
   ],
   "source": [
    "artist_list=data['artist_name'].values\n",
    "artist_list\n",
    "#Again it is an array and not an list\n",
    "#So we have to convert into the list"
   ]
  },
  {
   "cell_type": "code",
   "execution_count": 48,
   "metadata": {},
   "outputs": [
    {
     "data": {
      "text/plain": [
       "['Shawn Mendes',\n",
       " 'Anuel AA',\n",
       " 'Ariana Grande',\n",
       " 'Ed Sheeran',\n",
       " 'Post Malone',\n",
       " 'Ed Sheeran',\n",
       " 'Lil Tecca',\n",
       " 'Sam Smith',\n",
       " 'Lil Nas X',\n",
       " 'Billie Eilish',\n",
       " 'Bad Bunny',\n",
       " 'DJ Snake',\n",
       " 'Lewis Capaldi',\n",
       " 'Sech',\n",
       " 'Drake',\n",
       " 'Chris Brown',\n",
       " 'J Balvin',\n",
       " 'Post Malone',\n",
       " 'Y2K',\n",
       " 'Lizzo',\n",
       " 'MEDUZA',\n",
       " 'Lil Nas X',\n",
       " 'Jhay Cortez',\n",
       " 'Lunay',\n",
       " 'Billie Eilish',\n",
       " 'Shawn Mendes',\n",
       " 'Tones and I',\n",
       " 'Ali Gatie',\n",
       " 'Daddy Yankee',\n",
       " 'J Balvin',\n",
       " 'The Chainsmokers',\n",
       " 'Ariana Grande',\n",
       " 'Maluma',\n",
       " 'Young Thug',\n",
       " 'Katy Perry',\n",
       " 'Martin Garrix',\n",
       " 'Sech',\n",
       " 'Ed Sheeran',\n",
       " 'Jonas Brothers',\n",
       " 'Lauv',\n",
       " 'Kygo',\n",
       " 'Taylor Swift',\n",
       " 'Lady Gaga',\n",
       " 'Khalid',\n",
       " 'ROSALÍA',\n",
       " 'Marshmello',\n",
       " 'Nicky Jam',\n",
       " 'Marshmello',\n",
       " 'The Chainsmokers',\n",
       " 'Ed Sheeran']"
      ]
     },
     "execution_count": 48,
     "metadata": {},
     "output_type": "execute_result"
    }
   ],
   "source": [
    "artist_list.tolist()"
   ]
  },
  {
   "cell_type": "code",
   "execution_count": 49,
   "metadata": {},
   "outputs": [
    {
     "data": {
      "text/plain": [
       "track_name          0\n",
       "artist_name         0\n",
       "Genre               0\n",
       "beats_per_minute    0\n",
       "Energy              0\n",
       "Danceability        0\n",
       "Loudness(dB)        0\n",
       "Liveness            0\n",
       "Valence             0\n",
       "Length              0\n",
       "Acousticness        0\n",
       "Speechiness         0\n",
       "Popularity          0\n",
       "dtype: int64"
      ]
     },
     "execution_count": 49,
     "metadata": {},
     "output_type": "execute_result"
    }
   ],
   "source": [
    "data.isnull().sum()"
   ]
  },
  {
   "cell_type": "code",
   "execution_count": 50,
   "metadata": {},
   "outputs": [],
   "source": [
    "#nice there is no null values in it"
   ]
  },
  {
   "cell_type": "code",
   "execution_count": 51,
   "metadata": {},
   "outputs": [
    {
     "data": {
      "text/html": [
       "<div>\n",
       "<style scoped>\n",
       "    .dataframe tbody tr th:only-of-type {\n",
       "        vertical-align: middle;\n",
       "    }\n",
       "\n",
       "    .dataframe tbody tr th {\n",
       "        vertical-align: top;\n",
       "    }\n",
       "\n",
       "    .dataframe thead th {\n",
       "        text-align: right;\n",
       "    }\n",
       "</style>\n",
       "<table border=\"1\" class=\"dataframe\">\n",
       "  <thead>\n",
       "    <tr style=\"text-align: right;\">\n",
       "      <th></th>\n",
       "      <th>beats_per_minute</th>\n",
       "      <th>Energy</th>\n",
       "      <th>Danceability</th>\n",
       "      <th>Loudness(dB)</th>\n",
       "      <th>Liveness</th>\n",
       "      <th>Valence</th>\n",
       "      <th>Length</th>\n",
       "      <th>Acousticness</th>\n",
       "      <th>Speechiness</th>\n",
       "      <th>Popularity</th>\n",
       "    </tr>\n",
       "  </thead>\n",
       "  <tbody>\n",
       "    <tr>\n",
       "      <td>count</td>\n",
       "      <td>50.000000</td>\n",
       "      <td>50.000000</td>\n",
       "      <td>50.00000</td>\n",
       "      <td>50.000000</td>\n",
       "      <td>50.000000</td>\n",
       "      <td>50.000000</td>\n",
       "      <td>50.000000</td>\n",
       "      <td>50.000000</td>\n",
       "      <td>50.000000</td>\n",
       "      <td>50.000000</td>\n",
       "    </tr>\n",
       "    <tr>\n",
       "      <td>mean</td>\n",
       "      <td>120.060000</td>\n",
       "      <td>64.060000</td>\n",
       "      <td>71.38000</td>\n",
       "      <td>-5.660000</td>\n",
       "      <td>14.660000</td>\n",
       "      <td>54.600000</td>\n",
       "      <td>200.960000</td>\n",
       "      <td>22.160000</td>\n",
       "      <td>12.480000</td>\n",
       "      <td>87.500000</td>\n",
       "    </tr>\n",
       "    <tr>\n",
       "      <td>std</td>\n",
       "      <td>30.898392</td>\n",
       "      <td>14.231913</td>\n",
       "      <td>11.92988</td>\n",
       "      <td>2.056448</td>\n",
       "      <td>11.118306</td>\n",
       "      <td>22.336024</td>\n",
       "      <td>39.143879</td>\n",
       "      <td>18.995553</td>\n",
       "      <td>11.161596</td>\n",
       "      <td>4.491489</td>\n",
       "    </tr>\n",
       "    <tr>\n",
       "      <td>min</td>\n",
       "      <td>85.000000</td>\n",
       "      <td>32.000000</td>\n",
       "      <td>29.00000</td>\n",
       "      <td>-11.000000</td>\n",
       "      <td>5.000000</td>\n",
       "      <td>10.000000</td>\n",
       "      <td>115.000000</td>\n",
       "      <td>1.000000</td>\n",
       "      <td>3.000000</td>\n",
       "      <td>70.000000</td>\n",
       "    </tr>\n",
       "    <tr>\n",
       "      <td>25%</td>\n",
       "      <td>96.000000</td>\n",
       "      <td>55.250000</td>\n",
       "      <td>67.00000</td>\n",
       "      <td>-6.750000</td>\n",
       "      <td>8.000000</td>\n",
       "      <td>38.250000</td>\n",
       "      <td>176.750000</td>\n",
       "      <td>8.250000</td>\n",
       "      <td>5.000000</td>\n",
       "      <td>86.000000</td>\n",
       "    </tr>\n",
       "    <tr>\n",
       "      <td>50%</td>\n",
       "      <td>104.500000</td>\n",
       "      <td>66.500000</td>\n",
       "      <td>73.50000</td>\n",
       "      <td>-6.000000</td>\n",
       "      <td>11.000000</td>\n",
       "      <td>55.500000</td>\n",
       "      <td>198.000000</td>\n",
       "      <td>15.000000</td>\n",
       "      <td>7.000000</td>\n",
       "      <td>88.000000</td>\n",
       "    </tr>\n",
       "    <tr>\n",
       "      <td>75%</td>\n",
       "      <td>137.500000</td>\n",
       "      <td>74.750000</td>\n",
       "      <td>79.75000</td>\n",
       "      <td>-4.000000</td>\n",
       "      <td>15.750000</td>\n",
       "      <td>69.500000</td>\n",
       "      <td>217.500000</td>\n",
       "      <td>33.750000</td>\n",
       "      <td>15.000000</td>\n",
       "      <td>90.750000</td>\n",
       "    </tr>\n",
       "    <tr>\n",
       "      <td>max</td>\n",
       "      <td>190.000000</td>\n",
       "      <td>88.000000</td>\n",
       "      <td>90.00000</td>\n",
       "      <td>-2.000000</td>\n",
       "      <td>58.000000</td>\n",
       "      <td>95.000000</td>\n",
       "      <td>309.000000</td>\n",
       "      <td>75.000000</td>\n",
       "      <td>46.000000</td>\n",
       "      <td>95.000000</td>\n",
       "    </tr>\n",
       "  </tbody>\n",
       "</table>\n",
       "</div>"
      ],
      "text/plain": [
       "       beats_per_minute     Energy  Danceability  Loudness(dB)   Liveness  \\\n",
       "count         50.000000  50.000000      50.00000     50.000000  50.000000   \n",
       "mean         120.060000  64.060000      71.38000     -5.660000  14.660000   \n",
       "std           30.898392  14.231913      11.92988      2.056448  11.118306   \n",
       "min           85.000000  32.000000      29.00000    -11.000000   5.000000   \n",
       "25%           96.000000  55.250000      67.00000     -6.750000   8.000000   \n",
       "50%          104.500000  66.500000      73.50000     -6.000000  11.000000   \n",
       "75%          137.500000  74.750000      79.75000     -4.000000  15.750000   \n",
       "max          190.000000  88.000000      90.00000     -2.000000  58.000000   \n",
       "\n",
       "         Valence      Length  Acousticness  Speechiness  Popularity  \n",
       "count  50.000000   50.000000     50.000000    50.000000   50.000000  \n",
       "mean   54.600000  200.960000     22.160000    12.480000   87.500000  \n",
       "std    22.336024   39.143879     18.995553    11.161596    4.491489  \n",
       "min    10.000000  115.000000      1.000000     3.000000   70.000000  \n",
       "25%    38.250000  176.750000      8.250000     5.000000   86.000000  \n",
       "50%    55.500000  198.000000     15.000000     7.000000   88.000000  \n",
       "75%    69.500000  217.500000     33.750000    15.000000   90.750000  \n",
       "max    95.000000  309.000000     75.000000    46.000000   95.000000  "
      ]
     },
     "execution_count": 51,
     "metadata": {},
     "output_type": "execute_result"
    }
   ],
   "source": [
    "data.describe()"
   ]
  },
  {
   "cell_type": "code",
   "execution_count": 52,
   "metadata": {},
   "outputs": [
    {
     "name": "stdout",
     "output_type": "stream",
     "text": [
      "<class 'pandas.core.frame.DataFrame'>\n",
      "RangeIndex: 50 entries, 0 to 49\n",
      "Data columns (total 13 columns):\n",
      "track_name          50 non-null object\n",
      "artist_name         50 non-null object\n",
      "Genre               50 non-null object\n",
      "beats_per_minute    50 non-null int64\n",
      "Energy              50 non-null int64\n",
      "Danceability        50 non-null int64\n",
      "Loudness(dB)        50 non-null int64\n",
      "Liveness            50 non-null int64\n",
      "Valence             50 non-null int64\n",
      "Length              50 non-null int64\n",
      "Acousticness        50 non-null int64\n",
      "Speechiness         50 non-null int64\n",
      "Popularity          50 non-null int64\n",
      "dtypes: int64(10), object(3)\n",
      "memory usage: 5.2+ KB\n"
     ]
    }
   ],
   "source": [
    "data.info()"
   ]
  },
  {
   "cell_type": "code",
   "execution_count": 53,
   "metadata": {},
   "outputs": [],
   "source": [
    "pd.set_option('precision',3)"
   ]
  },
  {
   "cell_type": "code",
   "execution_count": 55,
   "metadata": {},
   "outputs": [
    {
     "data": {
      "text/html": [
       "<div>\n",
       "<style scoped>\n",
       "    .dataframe tbody tr th:only-of-type {\n",
       "        vertical-align: middle;\n",
       "    }\n",
       "\n",
       "    .dataframe tbody tr th {\n",
       "        vertical-align: top;\n",
       "    }\n",
       "\n",
       "    .dataframe thead th {\n",
       "        text-align: right;\n",
       "    }\n",
       "</style>\n",
       "<table border=\"1\" class=\"dataframe\">\n",
       "  <thead>\n",
       "    <tr style=\"text-align: right;\">\n",
       "      <th></th>\n",
       "      <th>beats_per_minute</th>\n",
       "      <th>Energy</th>\n",
       "      <th>Danceability</th>\n",
       "      <th>Loudness(dB)</th>\n",
       "      <th>Liveness</th>\n",
       "      <th>Valence</th>\n",
       "      <th>Length</th>\n",
       "      <th>Acousticness</th>\n",
       "      <th>Speechiness</th>\n",
       "      <th>Popularity</th>\n",
       "    </tr>\n",
       "  </thead>\n",
       "  <tbody>\n",
       "    <tr>\n",
       "      <td>count</td>\n",
       "      <td>50.000</td>\n",
       "      <td>50.000</td>\n",
       "      <td>50.00</td>\n",
       "      <td>50.000</td>\n",
       "      <td>50.000</td>\n",
       "      <td>50.000</td>\n",
       "      <td>50.000</td>\n",
       "      <td>50.000</td>\n",
       "      <td>50.000</td>\n",
       "      <td>50.000</td>\n",
       "    </tr>\n",
       "    <tr>\n",
       "      <td>mean</td>\n",
       "      <td>120.060</td>\n",
       "      <td>64.060</td>\n",
       "      <td>71.38</td>\n",
       "      <td>-5.660</td>\n",
       "      <td>14.660</td>\n",
       "      <td>54.600</td>\n",
       "      <td>200.960</td>\n",
       "      <td>22.160</td>\n",
       "      <td>12.480</td>\n",
       "      <td>87.500</td>\n",
       "    </tr>\n",
       "    <tr>\n",
       "      <td>std</td>\n",
       "      <td>30.898</td>\n",
       "      <td>14.232</td>\n",
       "      <td>11.93</td>\n",
       "      <td>2.056</td>\n",
       "      <td>11.118</td>\n",
       "      <td>22.336</td>\n",
       "      <td>39.144</td>\n",
       "      <td>18.996</td>\n",
       "      <td>11.162</td>\n",
       "      <td>4.491</td>\n",
       "    </tr>\n",
       "    <tr>\n",
       "      <td>min</td>\n",
       "      <td>85.000</td>\n",
       "      <td>32.000</td>\n",
       "      <td>29.00</td>\n",
       "      <td>-11.000</td>\n",
       "      <td>5.000</td>\n",
       "      <td>10.000</td>\n",
       "      <td>115.000</td>\n",
       "      <td>1.000</td>\n",
       "      <td>3.000</td>\n",
       "      <td>70.000</td>\n",
       "    </tr>\n",
       "    <tr>\n",
       "      <td>25%</td>\n",
       "      <td>96.000</td>\n",
       "      <td>55.250</td>\n",
       "      <td>67.00</td>\n",
       "      <td>-6.750</td>\n",
       "      <td>8.000</td>\n",
       "      <td>38.250</td>\n",
       "      <td>176.750</td>\n",
       "      <td>8.250</td>\n",
       "      <td>5.000</td>\n",
       "      <td>86.000</td>\n",
       "    </tr>\n",
       "    <tr>\n",
       "      <td>50%</td>\n",
       "      <td>104.500</td>\n",
       "      <td>66.500</td>\n",
       "      <td>73.50</td>\n",
       "      <td>-6.000</td>\n",
       "      <td>11.000</td>\n",
       "      <td>55.500</td>\n",
       "      <td>198.000</td>\n",
       "      <td>15.000</td>\n",
       "      <td>7.000</td>\n",
       "      <td>88.000</td>\n",
       "    </tr>\n",
       "    <tr>\n",
       "      <td>75%</td>\n",
       "      <td>137.500</td>\n",
       "      <td>74.750</td>\n",
       "      <td>79.75</td>\n",
       "      <td>-4.000</td>\n",
       "      <td>15.750</td>\n",
       "      <td>69.500</td>\n",
       "      <td>217.500</td>\n",
       "      <td>33.750</td>\n",
       "      <td>15.000</td>\n",
       "      <td>90.750</td>\n",
       "    </tr>\n",
       "    <tr>\n",
       "      <td>max</td>\n",
       "      <td>190.000</td>\n",
       "      <td>88.000</td>\n",
       "      <td>90.00</td>\n",
       "      <td>-2.000</td>\n",
       "      <td>58.000</td>\n",
       "      <td>95.000</td>\n",
       "      <td>309.000</td>\n",
       "      <td>75.000</td>\n",
       "      <td>46.000</td>\n",
       "      <td>95.000</td>\n",
       "    </tr>\n",
       "  </tbody>\n",
       "</table>\n",
       "</div>"
      ],
      "text/plain": [
       "       beats_per_minute  Energy  Danceability  Loudness(dB)  Liveness  \\\n",
       "count            50.000  50.000         50.00        50.000    50.000   \n",
       "mean            120.060  64.060         71.38        -5.660    14.660   \n",
       "std              30.898  14.232         11.93         2.056    11.118   \n",
       "min              85.000  32.000         29.00       -11.000     5.000   \n",
       "25%              96.000  55.250         67.00        -6.750     8.000   \n",
       "50%             104.500  66.500         73.50        -6.000    11.000   \n",
       "75%             137.500  74.750         79.75        -4.000    15.750   \n",
       "max             190.000  88.000         90.00        -2.000    58.000   \n",
       "\n",
       "       Valence   Length  Acousticness  Speechiness  Popularity  \n",
       "count   50.000   50.000        50.000       50.000      50.000  \n",
       "mean    54.600  200.960        22.160       12.480      87.500  \n",
       "std     22.336   39.144        18.996       11.162       4.491  \n",
       "min     10.000  115.000         1.000        3.000      70.000  \n",
       "25%     38.250  176.750         8.250        5.000      86.000  \n",
       "50%     55.500  198.000        15.000        7.000      88.000  \n",
       "75%     69.500  217.500        33.750       15.000      90.750  \n",
       "max     95.000  309.000        75.000       46.000      95.000  "
      ]
     },
     "execution_count": 55,
     "metadata": {},
     "output_type": "execute_result"
    }
   ],
   "source": [
    "data.describe()"
   ]
  },
  {
   "cell_type": "code",
   "execution_count": 56,
   "metadata": {},
   "outputs": [],
   "source": [
    "#It means somewhere negative values are also there \n",
    "#it is just the observation"
   ]
  },
  {
   "cell_type": "code",
   "execution_count": 57,
   "metadata": {},
   "outputs": [
    {
     "name": "stdout",
     "output_type": "stream",
     "text": [
      "beats_per_minute    0.855\n",
      "Energy             -0.453\n",
      "Danceability       -1.380\n",
      "Loudness(dB)       -0.832\n",
      "Liveness            2.204\n",
      "Valence            -0.046\n",
      "Length              0.749\n",
      "Acousticness        1.135\n",
      "Speechiness         1.378\n",
      "Popularity         -1.503\n",
      "dtype: float64\n"
     ]
    }
   ],
   "source": [
    "#Finding out the skew for each attribute\n",
    "skewness=data.skew()\n",
    "print(skewness)"
   ]
  },
  {
   "cell_type": "code",
   "execution_count": 58,
   "metadata": {},
   "outputs": [],
   "source": [
    "#it shows the skewness that is the spread of the tail where if tail is\n",
    "#right side means positively skewed otherwise negatively skewed"
   ]
  },
  {
   "cell_type": "code",
   "execution_count": 61,
   "metadata": {},
   "outputs": [],
   "source": [
    "#given skewness provided by the each attribute shows"
   ]
  },
  {
   "cell_type": "code",
   "execution_count": 69,
   "metadata": {},
   "outputs": [
    {
     "data": {
      "text/plain": [
       "array([ 8,  8, 16,  8, 11,  9,  7,  8, 11, 10, 24, 15, 11,  6, 12, 16, 11,\n",
       "        7, 14, 12,  7, 12,  9, 44, 12, 13, 18, 19,  6, 36, 10,  9,  9, 13,\n",
       "       32, 14, 11, 36, 11,  6, 10,  7, 23,  6,  5, 58,  8, 17, 41,  7])"
      ]
     },
     "execution_count": 69,
     "metadata": {},
     "output_type": "execute_result"
    }
   ],
   "source": [
    "# Removing the skew by using the boxcox transformations\n",
    "transform=np.asarray(data['Liveness'].values)\n",
    "#df_transform = stats.boxcox(transform)[0]\n",
    "# Plotting a histogram to show the difference \n",
    "#plt.hist(df['Liveness'],bins=10) #original data\n",
    "#plt.show()\n",
    "#plt.hist(df_transform,bins=10) #corrected skew data\n",
    "#plt.show()\n",
    "transform"
   ]
  },
  {
   "cell_type": "code",
   "execution_count": 70,
   "metadata": {},
   "outputs": [
    {
     "data": {
      "text/plain": [
       "'The Box-Cox transform is given by:\\n\\ny = (x**lmbda - 1) / lmbda,  for lmbda > 0\\n    log(x),                  for lmbda = 0'"
      ]
     },
     "execution_count": 70,
     "metadata": {},
     "output_type": "execute_result"
    }
   ],
   "source": [
    "#Return a positive dataset transformed by a Box-Cox power transformation.\n",
    "\n",
    "'''The Box-Cox transform is given by:\n",
    "\n",
    "y = (x**lmbda - 1) / lmbda,  for lmbda > 0\n",
    "    log(x),                  for lmbda = 0'''"
   ]
  },
  {
   "cell_type": "code",
   "execution_count": 88,
   "metadata": {},
   "outputs": [
    {
     "data": {
      "image/png": "[encoded data removed]",
      "text/plain": [
       "<Figure size 432x288 with 1 Axes>"
      ]
     },
     "metadata": {
      "needs_background": "light"
     },
     "output_type": "display_data"
    },
    {
     "data": {
      "image/png": "[encoded data removed]",
      "text/plain": [
       "<Figure size 432x288 with 1 Axes>"
      ]
     },
     "metadata": {
      "needs_background": "light"
     },
     "output_type": "display_data"
    }
   ],
   "source": [
    "# Removing the skew by using the boxcox transformations\n",
    "transform=np.asarray(data['Liveness'].values)\n",
    "df_transform = stats.boxcox(transform)[0]\n",
    "#df_transform\n",
    "#Plotting a histogram to show the difference \n",
    "plt.hist(data['Liveness'],bins=10) #original data\n",
    "plt.show()\n",
    "plt.hist(df_transform,bins=10) #corrected skew data\n",
    "plt.show()"
   ]
  },
  {
   "cell_type": "code",
   "execution_count": 89,
   "metadata": {},
   "outputs": [],
   "source": [
    "#This is after the apply of the boxcox function simply"
   ]
  },
  {
   "cell_type": "code",
   "execution_count": 103,
   "metadata": {},
   "outputs": [
    {
     "data": {
      "image/png": "[encoded data removed]",
      "text/plain": [
       "<Figure size 432x288 with 1 Axes>"
      ]
     },
     "metadata": {
      "needs_background": "light"
     },
     "output_type": "display_data"
    },
    {
     "data": {
      "image/png": "[encoded data removed]",
      "text/plain": [
       "<Figure size 432x288 with 1 Axes>"
      ]
     },
     "metadata": {
      "needs_background": "light"
     },
     "output_type": "display_data"
    }
   ],
   "source": [
    "transform1=np.asarray(data[['Popularity']].values)\n",
    "df_transform1 = stats.boxcox(transform1)[0]\n",
    "# Plotting a histogram to show the difference \n",
    "# plt.hist(df['Popularity'],bins=10) original data\n",
    "# plt.show()\n",
    "# plt.hist(df_transform1,bins=10) #corrected skew data\n",
    "# plt.show()\n",
    "sns.distplot(data['Popularity'],bins=10,kde=True,kde_kws={\"color\": \"k\", \"lw\": 3, \"label\": \"KDE\"},color='red')\n",
    "plt.show()\n",
    "sns.distplot(df_transform1,bins=10,kde=True,kde_kws={\"color\": \"k\", \"lw\": 3, \"label\": \"KDE\"},color='black') #corrected skew data\n",
    "plt.show()\n",
    "\n",
    "#this plot is just for both the histogram and the corresponding distribututiona and this is done with the help of \n",
    "#Kdeplot"
   ]
  },
  {
   "cell_type": "code",
   "execution_count": null,
   "metadata": {},
   "outputs": [],
   "source": [
    "#This function combines the matplotlib hist function (with automatic calculation of a good default bin size) \n",
    "#with the seaborn kdeplot() and rugplot() functions. It can also fit scipy.\n",
    "#stats distributions and plot the estimated PDF over the data."
   ]
  },
  {
   "cell_type": "code",
   "execution_count": 108,
   "metadata": {},
   "outputs": [],
   "source": [
    "pd.set_option('display.width',100)\n",
    "pd.set_option('precision',3)"
   ]
  },
  {
   "cell_type": "code",
   "execution_count": 109,
   "metadata": {},
   "outputs": [
    {
     "data": {
      "text/html": [
       "<div>\n",
       "<style scoped>\n",
       "    .dataframe tbody tr th:only-of-type {\n",
       "        vertical-align: middle;\n",
       "    }\n",
       "\n",
       "    .dataframe tbody tr th {\n",
       "        vertical-align: top;\n",
       "    }\n",
       "\n",
       "    .dataframe thead th {\n",
       "        text-align: right;\n",
       "    }\n",
       "</style>\n",
       "<table border=\"1\" class=\"dataframe\">\n",
       "  <thead>\n",
       "    <tr style=\"text-align: right;\">\n",
       "      <th></th>\n",
       "      <th>beats_per_minute</th>\n",
       "      <th>Energy</th>\n",
       "      <th>Danceability</th>\n",
       "      <th>Loudness(dB)</th>\n",
       "      <th>Liveness</th>\n",
       "      <th>Valence</th>\n",
       "      <th>Length</th>\n",
       "      <th>Acousticness</th>\n",
       "      <th>Speechiness</th>\n",
       "      <th>Popularity</th>\n",
       "    </tr>\n",
       "  </thead>\n",
       "  <tbody>\n",
       "    <tr>\n",
       "      <td>count</td>\n",
       "      <td>50.000</td>\n",
       "      <td>50.000</td>\n",
       "      <td>50.00</td>\n",
       "      <td>50.000</td>\n",
       "      <td>50.000</td>\n",
       "      <td>50.000</td>\n",
       "      <td>50.000</td>\n",
       "      <td>50.000</td>\n",
       "      <td>50.000</td>\n",
       "      <td>50.000</td>\n",
       "    </tr>\n",
       "    <tr>\n",
       "      <td>mean</td>\n",
       "      <td>120.060</td>\n",
       "      <td>64.060</td>\n",
       "      <td>71.38</td>\n",
       "      <td>-5.660</td>\n",
       "      <td>14.660</td>\n",
       "      <td>54.600</td>\n",
       "      <td>200.960</td>\n",
       "      <td>22.160</td>\n",
       "      <td>12.480</td>\n",
       "      <td>87.500</td>\n",
       "    </tr>\n",
       "    <tr>\n",
       "      <td>std</td>\n",
       "      <td>30.898</td>\n",
       "      <td>14.232</td>\n",
       "      <td>11.93</td>\n",
       "      <td>2.056</td>\n",
       "      <td>11.118</td>\n",
       "      <td>22.336</td>\n",
       "      <td>39.144</td>\n",
       "      <td>18.996</td>\n",
       "      <td>11.162</td>\n",
       "      <td>4.491</td>\n",
       "    </tr>\n",
       "    <tr>\n",
       "      <td>min</td>\n",
       "      <td>85.000</td>\n",
       "      <td>32.000</td>\n",
       "      <td>29.00</td>\n",
       "      <td>-11.000</td>\n",
       "      <td>5.000</td>\n",
       "      <td>10.000</td>\n",
       "      <td>115.000</td>\n",
       "      <td>1.000</td>\n",
       "      <td>3.000</td>\n",
       "      <td>70.000</td>\n",
       "    </tr>\n",
       "    <tr>\n",
       "      <td>25%</td>\n",
       "      <td>96.000</td>\n",
       "      <td>55.250</td>\n",
       "      <td>67.00</td>\n",
       "      <td>-6.750</td>\n",
       "      <td>8.000</td>\n",
       "      <td>38.250</td>\n",
       "      <td>176.750</td>\n",
       "      <td>8.250</td>\n",
       "      <td>5.000</td>\n",
       "      <td>86.000</td>\n",
       "    </tr>\n",
       "    <tr>\n",
       "      <td>50%</td>\n",
       "      <td>104.500</td>\n",
       "      <td>66.500</td>\n",
       "      <td>73.50</td>\n",
       "      <td>-6.000</td>\n",
       "      <td>11.000</td>\n",
       "      <td>55.500</td>\n",
       "      <td>198.000</td>\n",
       "      <td>15.000</td>\n",
       "      <td>7.000</td>\n",
       "      <td>88.000</td>\n",
       "    </tr>\n",
       "    <tr>\n",
       "      <td>75%</td>\n",
       "      <td>137.500</td>\n",
       "      <td>74.750</td>\n",
       "      <td>79.75</td>\n",
       "      <td>-4.000</td>\n",
       "      <td>15.750</td>\n",
       "      <td>69.500</td>\n",
       "      <td>217.500</td>\n",
       "      <td>33.750</td>\n",
       "      <td>15.000</td>\n",
       "      <td>90.750</td>\n",
       "    </tr>\n",
       "    <tr>\n",
       "      <td>max</td>\n",
       "      <td>190.000</td>\n",
       "      <td>88.000</td>\n",
       "      <td>90.00</td>\n",
       "      <td>-2.000</td>\n",
       "      <td>58.000</td>\n",
       "      <td>95.000</td>\n",
       "      <td>309.000</td>\n",
       "      <td>75.000</td>\n",
       "      <td>46.000</td>\n",
       "      <td>95.000</td>\n",
       "    </tr>\n",
       "  </tbody>\n",
       "</table>\n",
       "</div>"
      ],
      "text/plain": [
       "       beats_per_minute  Energy  Danceability  Loudness(dB)  Liveness  Valence   Length  \\\n",
       "count            50.000  50.000         50.00        50.000    50.000   50.000   50.000   \n",
       "mean            120.060  64.060         71.38        -5.660    14.660   54.600  200.960   \n",
       "std              30.898  14.232         11.93         2.056    11.118   22.336   39.144   \n",
       "min              85.000  32.000         29.00       -11.000     5.000   10.000  115.000   \n",
       "25%              96.000  55.250         67.00        -6.750     8.000   38.250  176.750   \n",
       "50%             104.500  66.500         73.50        -6.000    11.000   55.500  198.000   \n",
       "75%             137.500  74.750         79.75        -4.000    15.750   69.500  217.500   \n",
       "max             190.000  88.000         90.00        -2.000    58.000   95.000  309.000   \n",
       "\n",
       "       Acousticness  Speechiness  Popularity  \n",
       "count        50.000       50.000      50.000  \n",
       "mean         22.160       12.480      87.500  \n",
       "std          18.996       11.162       4.491  \n",
       "min           1.000        3.000      70.000  \n",
       "25%           8.250        5.000      86.000  \n",
       "50%          15.000        7.000      88.000  \n",
       "75%          33.750       15.000      90.750  \n",
       "max          75.000       46.000      95.000  "
      ]
     },
     "execution_count": 109,
     "metadata": {},
     "output_type": "execute_result"
    }
   ],
   "source": [
    "data.describe()"
   ]
  },
  {
   "cell_type": "code",
   "execution_count": 113,
   "metadata": {},
   "outputs": [
    {
     "data": {
      "text/html": [
       "<div>\n",
       "<style scoped>\n",
       "    .dataframe tbody tr th:only-of-type {\n",
       "        vertical-align: middle;\n",
       "    }\n",
       "\n",
       "    .dataframe tbody tr th {\n",
       "        vertical-align: top;\n",
       "    }\n",
       "\n",
       "    .dataframe thead th {\n",
       "        text-align: right;\n",
       "    }\n",
       "</style>\n",
       "<table border=\"1\" class=\"dataframe\">\n",
       "  <thead>\n",
       "    <tr style=\"text-align: right;\">\n",
       "      <th></th>\n",
       "      <th>beats_per_minute</th>\n",
       "      <th>Energy</th>\n",
       "      <th>Danceability</th>\n",
       "      <th>Loudness(dB)</th>\n",
       "      <th>Liveness</th>\n",
       "      <th>Valence</th>\n",
       "      <th>Length</th>\n",
       "      <th>Acousticness</th>\n",
       "      <th>Speechiness</th>\n",
       "      <th>Popularity</th>\n",
       "    </tr>\n",
       "  </thead>\n",
       "  <tbody>\n",
       "    <tr>\n",
       "      <td>beats_per_minute</td>\n",
       "      <td>1.000</td>\n",
       "      <td>0.012</td>\n",
       "      <td>-0.092</td>\n",
       "      <td>0.014</td>\n",
       "      <td>-0.033</td>\n",
       "      <td>-0.048</td>\n",
       "      <td>-0.198</td>\n",
       "      <td>-0.010</td>\n",
       "      <td>0.392</td>\n",
       "      <td>0.217</td>\n",
       "    </tr>\n",
       "    <tr>\n",
       "      <td>Energy</td>\n",
       "      <td>0.012</td>\n",
       "      <td>1.000</td>\n",
       "      <td>-0.049</td>\n",
       "      <td>0.635</td>\n",
       "      <td>0.013</td>\n",
       "      <td>0.467</td>\n",
       "      <td>0.189</td>\n",
       "      <td>-0.211</td>\n",
       "      <td>-0.035</td>\n",
       "      <td>-0.044</td>\n",
       "    </tr>\n",
       "    <tr>\n",
       "      <td>Danceability</td>\n",
       "      <td>-0.092</td>\n",
       "      <td>-0.049</td>\n",
       "      <td>1.000</td>\n",
       "      <td>0.009</td>\n",
       "      <td>-0.261</td>\n",
       "      <td>0.155</td>\n",
       "      <td>-0.079</td>\n",
       "      <td>-0.128</td>\n",
       "      <td>0.104</td>\n",
       "      <td>-0.141</td>\n",
       "    </tr>\n",
       "    <tr>\n",
       "      <td>Loudness(dB)</td>\n",
       "      <td>0.014</td>\n",
       "      <td>0.635</td>\n",
       "      <td>0.009</td>\n",
       "      <td>1.000</td>\n",
       "      <td>0.114</td>\n",
       "      <td>0.317</td>\n",
       "      <td>0.165</td>\n",
       "      <td>-0.040</td>\n",
       "      <td>-0.063</td>\n",
       "      <td>0.072</td>\n",
       "    </tr>\n",
       "    <tr>\n",
       "      <td>Liveness</td>\n",
       "      <td>-0.033</td>\n",
       "      <td>0.013</td>\n",
       "      <td>-0.261</td>\n",
       "      <td>0.114</td>\n",
       "      <td>1.000</td>\n",
       "      <td>-0.187</td>\n",
       "      <td>0.202</td>\n",
       "      <td>0.204</td>\n",
       "      <td>-0.137</td>\n",
       "      <td>0.012</td>\n",
       "    </tr>\n",
       "    <tr>\n",
       "      <td>Valence</td>\n",
       "      <td>-0.048</td>\n",
       "      <td>0.467</td>\n",
       "      <td>0.155</td>\n",
       "      <td>0.317</td>\n",
       "      <td>-0.187</td>\n",
       "      <td>1.000</td>\n",
       "      <td>-0.081</td>\n",
       "      <td>-0.053</td>\n",
       "      <td>-0.095</td>\n",
       "      <td>-0.265</td>\n",
       "    </tr>\n",
       "    <tr>\n",
       "      <td>Length</td>\n",
       "      <td>-0.198</td>\n",
       "      <td>0.189</td>\n",
       "      <td>-0.079</td>\n",
       "      <td>0.165</td>\n",
       "      <td>0.202</td>\n",
       "      <td>-0.081</td>\n",
       "      <td>1.000</td>\n",
       "      <td>-0.005</td>\n",
       "      <td>0.020</td>\n",
       "      <td>-0.122</td>\n",
       "    </tr>\n",
       "    <tr>\n",
       "      <td>Acousticness</td>\n",
       "      <td>-0.010</td>\n",
       "      <td>-0.211</td>\n",
       "      <td>-0.128</td>\n",
       "      <td>-0.040</td>\n",
       "      <td>0.204</td>\n",
       "      <td>-0.053</td>\n",
       "      <td>-0.005</td>\n",
       "      <td>1.000</td>\n",
       "      <td>0.017</td>\n",
       "      <td>0.036</td>\n",
       "    </tr>\n",
       "    <tr>\n",
       "      <td>Speechiness</td>\n",
       "      <td>0.392</td>\n",
       "      <td>-0.035</td>\n",
       "      <td>0.104</td>\n",
       "      <td>-0.063</td>\n",
       "      <td>-0.137</td>\n",
       "      <td>-0.095</td>\n",
       "      <td>0.020</td>\n",
       "      <td>0.017</td>\n",
       "      <td>1.000</td>\n",
       "      <td>0.165</td>\n",
       "    </tr>\n",
       "    <tr>\n",
       "      <td>Popularity</td>\n",
       "      <td>0.217</td>\n",
       "      <td>-0.044</td>\n",
       "      <td>-0.141</td>\n",
       "      <td>0.072</td>\n",
       "      <td>0.012</td>\n",
       "      <td>-0.265</td>\n",
       "      <td>-0.122</td>\n",
       "      <td>0.036</td>\n",
       "      <td>0.165</td>\n",
       "      <td>1.000</td>\n",
       "    </tr>\n",
       "  </tbody>\n",
       "</table>\n",
       "</div>"
      ],
      "text/plain": [
       "                  beats_per_minute  Energy  Danceability  Loudness(dB)  Liveness  Valence  Length  \\\n",
       "beats_per_minute             1.000   0.012        -0.092         0.014    -0.033   -0.048  -0.198   \n",
       "Energy                       0.012   1.000        -0.049         0.635     0.013    0.467   0.189   \n",
       "Danceability                -0.092  -0.049         1.000         0.009    -0.261    0.155  -0.079   \n",
       "Loudness(dB)                 0.014   0.635         0.009         1.000     0.114    0.317   0.165   \n",
       "Liveness                    -0.033   0.013        -0.261         0.114     1.000   -0.187   0.202   \n",
       "Valence                     -0.048   0.467         0.155         0.317    -0.187    1.000  -0.081   \n",
       "Length                      -0.198   0.189        -0.079         0.165     0.202   -0.081   1.000   \n",
       "Acousticness                -0.010  -0.211        -0.128        -0.040     0.204   -0.053  -0.005   \n",
       "Speechiness                  0.392  -0.035         0.104        -0.063    -0.137   -0.095   0.020   \n",
       "Popularity                   0.217  -0.044        -0.141         0.072     0.012   -0.265  -0.122   \n",
       "\n",
       "                  Acousticness  Speechiness  Popularity  \n",
       "beats_per_minute        -0.010        0.392       0.217  \n",
       "Energy                  -0.211       -0.035      -0.044  \n",
       "Danceability            -0.128        0.104      -0.141  \n",
       "Loudness(dB)            -0.040       -0.063       0.072  \n",
       "Liveness                 0.204       -0.137       0.012  \n",
       "Valence                 -0.053       -0.095      -0.265  \n",
       "Length                  -0.005        0.020      -0.122  \n",
       "Acousticness             1.000        0.017       0.036  \n",
       "Speechiness              0.017        1.000       0.165  \n",
       "Popularity               0.036        0.165       1.000  "
      ]
     },
     "execution_count": 113,
     "metadata": {},
     "output_type": "execute_result"
    }
   ],
   "source": [
    "corr_matrix=data.corr(method='spearman')\n",
    "corr_matrix"
   ]
  },
  {
   "cell_type": "code",
   "execution_count": 127,
   "metadata": {},
   "outputs": [
    {
     "data": {
      "text/plain": [
       "array([ 0,  1,  2,  3,  4,  5,  6,  7,  8,  9, 10, 11, 12, 13, 14, 15, 16,\n",
       "       17, 18, 19, 20, 21, 22, 23, 24, 25, 26, 27, 28, 29, 30, 31, 32, 33,\n",
       "       34, 35, 36, 37, 38, 39, 40, 41, 42, 43, 44, 45, 46, 47, 48, 49])"
      ]
     },
     "execution_count": 127,
     "metadata": {},
     "output_type": "execute_result"
    }
   ],
   "source": [
    "#The Spearman correlation coefficient is defined as \n",
    "#the Pearson correlation coefficient between the rank variables\n",
    "length=np.arange(len(np.asarray(genre_list)))\n",
    "length"
   ]
  },
  {
   "cell_type": "code",
   "execution_count": 144,
   "metadata": {},
   "outputs": [
    {
     "data": {
      "image/png": "[encoded data removed]",
      "text/plain": [
       "<Figure size 2160x864 with 1 Axes>"
      ]
     },
     "metadata": {
      "needs_background": "light"
     },
     "output_type": "display_data"
    }
   ],
   "source": [
    "# Bar graph to see the number of songs of each genre\n",
    "fig, ax=plt.subplots(figsize=(30,12))\n",
    "length=np.arange(len(genre_group))\n",
    "plt.bar(length,genre_group,color='green',edgecolor='black',alpha=0.7)\n",
    "plt.xticks(length,genre_list,rotation=90)\n",
    "plt.title('Most popular genre',fontsize=18)\n",
    "plt.xlabel('Genre',fontsize=16)\n",
    "plt.ylabel('Number of songs',fontsize=16)\n",
    "plt.show()"
   ]
  },
  {
   "cell_type": "code",
   "execution_count": 157,
   "metadata": {},
   "outputs": [
    {
     "data": {
      "text/plain": [
       "(10.0, 0.0)"
      ]
     },
     "execution_count": 157,
     "metadata": {},
     "output_type": "execute_result"
    },
    {
     "data": {
      "image/png": "[encoded data removed]",
      "text/plain": [
       "<Figure size 720x720 with 2 Axes>"
      ]
     },
     "metadata": {
      "needs_background": "light"
     },
     "output_type": "display_data"
    }
   ],
   "source": [
    "#drawing the heatmap for seeing the correlation between the other two\n",
    "plt.figure(figsize=(10,10))\n",
    "plt.title(\"Correlation Heat Map\")\n",
    "ax = sns.heatmap(corr_matrix, annot=True) #notation: \"annot\" not \"annote\"\n",
    "bottom, top = ax.get_ylim()\n",
    "ax.set_ylim(bottom + 0.5, top - 0.5)"
   ]
  },
  {
   "cell_type": "code",
   "execution_count": 159,
   "metadata": {},
   "outputs": [
    {
     "data": {
      "image/png": "[encoded data removed]",
      "text/plain": [
       "<Figure size 864x864 with 1 Axes>"
      ]
     },
     "metadata": {
      "needs_background": "light"
     },
     "output_type": "display_data"
    }
   ],
   "source": [
    "fig, ax=plt.subplots(figsize=(12,12))\n",
    "length=np.arange(len(artist_size))\n",
    "plt.barh(length,artist_size,color='b',edgecolor='black',alpha=0.7)\n",
    "plt.yticks(length,artist_list)\n",
    "plt.title('Most popular artists',fontsize=18)\n",
    "plt.ylabel('Artists',fontsize=16)\n",
    "plt.xlabel('Number of songs',fontsize=16)\n",
    "plt.show()"
   ]
  },
  {
   "cell_type": "code",
   "execution_count": 165,
   "metadata": {},
   "outputs": [
    {
     "data": {
      "text/plain": [
       "<matplotlib.axes._subplots.AxesSubplot at 0x7f08433b7d90>"
      ]
     },
     "execution_count": 165,
     "metadata": {},
     "output_type": "execute_result"
    },
    {
     "data": {
      "image/png": "[encoded data removed]",
      "text/plain": [
       "<Figure size 720x720 with 1 Axes>"
      ]
     },
     "metadata": {
      "needs_background": "light"
     },
     "output_type": "display_data"
    }
   ],
   "source": [
    "# Analysing the relationship between energy and loudness\n",
    "#it can draw a linear regression line also \n",
    "#that is why it is also called regression plot\n",
    "fig=plt.subplots(figsize=(10,10))\n",
    "sns.regplot(x='Energy',y='Loudness(dB)',data=data,color='black')"
   ]
  },
  {
   "cell_type": "code",
   "execution_count": 167,
   "metadata": {},
   "outputs": [
    {
     "name": "stdout",
     "output_type": "stream",
     "text": [
      "Index(['track_name', 'artist_name', 'Genre', 'beats_per_minute', 'Energy', 'Danceability',\n",
      "       'Loudness(dB)', 'Liveness', 'Valence', 'Length', 'Acousticness', 'Speechiness',\n",
      "       'Popularity'],\n",
      "      dtype='object')\n"
     ]
    }
   ],
   "source": [
    "#Now we are trying to build the Linear Regression or basically the linear Regression Model\n",
    "print(data.columns)"
   ]
  },
  {
   "cell_type": "code",
   "execution_count": 176,
   "metadata": {},
   "outputs": [],
   "source": [
    "#Linear regression, first create test and train dataset\n",
    "X=data.loc[:,['Energy','Danceability']].values\n",
    "y=data.loc[:,'Popularity'].values"
   ]
  },
  {
   "cell_type": "code",
   "execution_count": 177,
   "metadata": {},
   "outputs": [],
   "source": [
    "from sklearn.model_selection import train_test_split\n",
    "X_train,X_test,y_train,y_test=train_test_split(X,y,test_size=0.2,random_state=0)"
   ]
  },
  {
   "cell_type": "code",
   "execution_count": 178,
   "metadata": {},
   "outputs": [
    {
     "data": {
      "text/plain": [
       "(50, 2)"
      ]
     },
     "execution_count": 178,
     "metadata": {},
     "output_type": "execute_result"
    }
   ],
   "source": [
    "X.shape"
   ]
  },
  {
   "cell_type": "code",
   "execution_count": 180,
   "metadata": {},
   "outputs": [
    {
     "data": {
      "text/plain": [
       "(40, 2)"
      ]
     },
     "execution_count": 180,
     "metadata": {},
     "output_type": "execute_result"
    }
   ],
   "source": [
    "X_train.shape"
   ]
  },
  {
   "cell_type": "code",
   "execution_count": 183,
   "metadata": {},
   "outputs": [
    {
     "name": "stdout",
     "output_type": "stream",
     "text": [
      "[-0.01020633  0.00038145]\n",
      "87.99607389924867\n"
     ]
    }
   ],
   "source": [
    "from sklearn.linear_model import LinearRegression\n",
    "regressor=LinearRegression()\n",
    "regressor.fit(X_train,y_train)\n",
    "print(regressor.coef_)\n",
    "print(regressor.intercept_)"
   ]
  },
  {
   "cell_type": "code",
   "execution_count": 184,
   "metadata": {},
   "outputs": [],
   "source": [
    "y_pred=regressor.predict(X_test)"
   ]
  },
  {
   "cell_type": "code",
   "execution_count": 185,
   "metadata": {},
   "outputs": [
    {
     "data": {
      "text/plain": [
       "array([87.1465568 , 87.30270337, 87.38654988, 87.33141511, 87.19482545,\n",
       "       87.55442859, 87.28305361, 87.69922448, 87.22067127, 87.35478654])"
      ]
     },
     "execution_count": 185,
     "metadata": {},
     "output_type": "execute_result"
    }
   ],
   "source": [
    "y_pred"
   ]
  },
  {
   "cell_type": "code",
   "execution_count": 187,
   "metadata": {},
   "outputs": [
    {
     "name": "stdout",
     "output_type": "stream",
     "text": [
      "   Actual  Predicted\n",
      "0      91     87.147\n",
      "1      86     87.303\n",
      "2      93     87.387\n",
      "3      90     87.331\n",
      "4      85     87.195\n",
      "5      89     87.554\n",
      "6      80     87.283\n",
      "7      89     87.699\n",
      "8      83     87.221\n",
      "9      94     87.355\n"
     ]
    }
   ],
   "source": [
    "#comparing the original and the predicted one\n",
    "df_output = pd.DataFrame({'Actual': y_test, 'Predicted': y_pred})\n",
    "print(df_output)"
   ]
  },
  {
   "cell_type": "code",
   "execution_count": 191,
   "metadata": {},
   "outputs": [
    {
     "name": "stdout",
     "output_type": "stream",
     "text": [
      "Mean Absolute Error 3.6528292308378054\n",
      "Mean Squared Error 17.879297842752564\n",
      "Root Mean Squared Error: 4.228391874312569\n"
     ]
    }
   ],
   "source": [
    "from sklearn.metrics import mean_absolute_error,mean_squared_error\n",
    "print(\"Mean Absolute Error\",mean_absolute_error(y_test,y_pred))\n",
    "print(\"Mean Squared Error\",mean_squared_error(y_test,y_pred))\n",
    "print('Root Mean Squared Error:', np.sqrt(mean_squared_error(y_test, y_pred)))"
   ]
  }
 ],
 "metadata": {
  "kernelspec": {
   "display_name": "Python 3",
   "language": "python",
   "name": "python3"
  },
  "language_info": {
   "codemirror_mode": {
    "name": "ipython",
    "version": 3
   },
   "file_extension": ".py",
   "mimetype": "text/x-python",
   "name": "python",
   "nbconvert_exporter": "python",
   "pygments_lexer": "ipython3",
   "version": "3.7.4"
  }
 },
 "nbformat": 4,
 "nbformat_minor": 2
}
